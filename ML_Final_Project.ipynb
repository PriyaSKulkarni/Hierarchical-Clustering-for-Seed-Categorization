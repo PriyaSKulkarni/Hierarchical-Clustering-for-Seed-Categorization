{
  "nbformat": 4,
  "nbformat_minor": 0,
  "metadata": {
    "colab": {
      "provenance": []
    },
    "kernelspec": {
      "name": "python3",
      "display_name": "Python 3"
    },
    "language_info": {
      "name": "python"
    }
  },
  "cells": [
    {
      "cell_type": "markdown",
      "source": [
        "Hierarchical Clustering for Seed Categorization: Implement Hierarchical Clustering on the UCI seed dataset to divide it in groups and use the cluser IDs as labels for a subsequent K nearest neighbor classifier to identify the species. You should use multiple clusterings here and have to determine what a good number of clusters would be and how to determine the similarity between clusters and a data point. "
      ],
      "metadata": {
        "id": "ngzLQ3kFwvuz"
      }
    },
    {
      "cell_type": "markdown",
      "source": [
        "Importing the dataset"
      ],
      "metadata": {
        "id": "ZTSAXhEQn9bH"
      }
    },
    {
      "cell_type": "code",
      "source": [
        "import numpy as np\n",
        "import pandas as pd\n",
        "import matplotlib.pyplot as plt\n",
        "import math\n",
        "# I have used my google drive to load the training and testing data\n",
        "# Upload the dataset file in your google drive and change the path to run the below line\n",
        "from google.colab import drive\n",
        "drive.mount('/content/drive')\n",
        "# i have divided the given dataset into training and testing dataset ratio of 70:30\n",
        "X= pd.read_csv('/content/drive/MyDrive/ML/seeddataset.csv',dtype='object')\n",
        "print(X)\n",
        "X_test= pd.read_csv('/content/drive/MyDrive/ML/seeddatasettest.csv',dtype='object')\n",
        "print(X_test)"
      ],
      "metadata": {
        "colab": {
          "base_uri": "https://localhost:8080/"
        },
        "id": "KWiyw0ppQ3hp",
        "outputId": "df482a38-6383-47d9-8f76-40b9653ced09"
      },
      "execution_count": 1,
      "outputs": [
        {
          "output_type": "stream",
          "name": "stdout",
          "text": [
            "Mounted at /content/drive\n",
            "        f1     f2      f3     f4     f5     f6     f7 class\n",
            "0    15.26  14.84   0.871  5.763  3.312  2.221   5.22     1\n",
            "1    14.88  14.57  0.8811  5.554  3.333  1.018  4.956     1\n",
            "2    14.29  14.09   0.905  5.291  3.337  2.699  4.825     1\n",
            "3    13.84  13.94  0.8955  5.324  3.379  2.259  4.805     1\n",
            "4    16.14  14.99  0.9034  5.658  3.562  1.355  5.175     1\n",
            "..     ...    ...     ...    ...    ...    ...    ...   ...\n",
            "143  13.37  13.78  0.8849   5.32  3.128   4.67  5.091     3\n",
            "144  12.62  13.67  0.8481   5.41  2.911  3.306  5.231     3\n",
            "145  12.76  13.38  0.8964  5.073  3.155  2.828   4.83     3\n",
            "146  12.38  13.44  0.8609  5.219  2.989  5.472  5.045     3\n",
            "147  12.67  13.32  0.8977  4.984  3.135    2.3  4.745     3\n",
            "\n",
            "[148 rows x 8 columns]\n",
            "       f1     f2      f3     f4     f5     f6     f7 class\n",
            "0   11.18  12.72   0.868  5.009   2.81  4.051  4.828     3\n",
            "1    12.7  13.41  0.8874  5.183  3.091  8.456      5     3\n",
            "2   12.37  13.47  0.8567  5.204   2.96  3.919  5.001     3\n",
            "3   12.19   13.2  0.8783  5.137  2.981  3.631   4.87     3\n",
            "4   11.23  12.88  0.8511   5.14  2.795  4.325  5.003     3\n",
            "..    ...    ...     ...    ...    ...    ...    ...   ...\n",
            "57  19.11  16.26  0.9081  6.154   3.93  2.936  6.079     2\n",
            "58  12.49  13.46  0.8658  5.267  2.967  4.421  5.002     3\n",
            "59   12.7  13.71  0.8491  5.386  2.911   3.26  5.316     3\n",
            "60  10.79  12.93  0.8107  5.317  2.648  5.462  5.194     3\n",
            "61  11.83  13.23  0.8496  5.263   2.84  5.195  5.307     3\n",
            "\n",
            "[62 rows x 8 columns]\n"
          ]
        }
      ]
    },
    {
      "cell_type": "markdown",
      "source": [
        "Separating the label from the given dataset to implement Heirarchial Clustering"
      ],
      "metadata": {
        "id": "pQaSxXbEqC7E"
      }
    },
    {
      "cell_type": "code",
      "source": [
        "y = X.iloc[:,-1]\n",
        "X = X.iloc[:, 0:7]\n",
        "X = X.to_numpy()\n",
        "y = y.to_numpy()\n",
        "X=X.astype('float64')\n",
        "print(\"Shape of unlabedled training data: \",X.shape)\n",
        "print(\"label data\",y)\n",
        "y_test = X_test.iloc[:,-1]\n",
        "X_test = X_test.iloc[:, 0:7]\n",
        "X_test = X_test.to_numpy()\n",
        "y_test = y_test.to_numpy()\n",
        "X_test=X_test.astype('float64')\n",
        "print(\"Shape of unlabedled testing data: \",X_test.shape)\n",
        "print(\"label data\",y_test)"
      ],
      "metadata": {
        "id": "MrS1EdAFRSu0",
        "colab": {
          "base_uri": "https://localhost:8080/"
        },
        "outputId": "767e9570-b983-4bcb-ab44-48e350f35c86"
      },
      "execution_count": 2,
      "outputs": [
        {
          "output_type": "stream",
          "name": "stdout",
          "text": [
            "Shape of unlabedled training data:  (148, 7)\n",
            "label data ['1' '1' '1' '1' '1' '1' '1' '1' '1' '1' '1' '1' '1' '1' '1' '1' '1' '1'\n",
            " '1' '1' '1' '1' '1' '1' '1' '1' '1' '1' '1' '1' '1' '1' '1' '1' '1' '1'\n",
            " '1' '1' '1' '1' '1' '1' '1' '1' '1' '1' '1' '1' '1' '1' '2' '2' '2' '2'\n",
            " '2' '2' '2' '2' '2' '2' '2' '2' '2' '2' '2' '2' '2' '2' '2' '2' '2' '2'\n",
            " '2' '2' '2' '2' '2' '2' '2' '2' '2' '2' '2' '2' '2' '2' '2' '2' '2' '2'\n",
            " '2' '2' '2' '2' '2' '2' '2' '2' '3' '3' '3' '3' '3' '3' '3' '3' '3' '3'\n",
            " '3' '3' '3' '3' '3' '3' '3' '3' '3' '3' '3' '3' '3' '3' '3' '3' '3' '3'\n",
            " '3' '3' '3' '3' '3' '3' '3' '3' '3' '3' '3' '3' '3' '3' '3' '3' '3' '3'\n",
            " '3' '3' '3' '3']\n",
            "Shape of unlabedled testing data:  (62, 7)\n",
            "label data ['3' '3' '3' '3' '3' '3' '3' '3' '2' '2' '2' '2' '2' '2' '2' '2' '2' '2'\n",
            " '1' '1' '1' '1' '1' '1' '1' '1' '1' '1' '1' '1' '1' '1' '1' '1' '2' '2'\n",
            " '2' '2' '2' '2' '2' '2' '3' '3' '3' '3' '3' '3' '3' '3' '1' '1' '1' '1'\n",
            " '2' '2' '2' '2' '3' '3' '3' '3']\n"
          ]
        }
      ]
    },
    {
      "cell_type": "markdown",
      "source": [
        "Visual representation of the output target values classes:"
      ],
      "metadata": {
        "id": "Jpjmyy8Mpq1R"
      }
    },
    {
      "cell_type": "code",
      "source": [
        "plt.scatter(X[y == '1', 0], X[y == '1', 6],  c = 'red', label = '0')\n",
        "plt.scatter(X[y == '2', 0], X[y == '2', 6],  c = 'blue', label = '1')\n",
        "plt.scatter(X[y == '3', 0], X[y == '3', 6],  c = 'green', label = '2')\n",
        "plt.title('Seed dataset plot')\n",
        "plt.legend()"
      ],
      "metadata": {
        "colab": {
          "base_uri": "https://localhost:8080/",
          "height": 469
        },
        "id": "iaUJC35xoIUL",
        "outputId": "fa2d608d-5755-48ee-f45e-03ec83614726"
      },
      "execution_count": 3,
      "outputs": [
        {
          "output_type": "execute_result",
          "data": {
            "text/plain": [
              "<matplotlib.legend.Legend at 0x7f3b8f0ce080>"
            ]
          },
          "metadata": {},
          "execution_count": 3
        },
        {
          "output_type": "display_data",
          "data": {
            "text/plain": [
              "<Figure size 640x480 with 1 Axes>"
            ],
            "image/png": "[encoded data removed]"
          },
          "metadata": {}
        }
      ]
    },
    {
      "cell_type": "markdown",
      "source": [
        "Implementing Hierarchical Clustering:"
      ],
      "metadata": {
        "id": "ALd8vZoEqVdL"
      }
    },
    {
      "cell_type": "code",
      "source": [
        "# assigning the number to the linkage method:\n",
        "# 0 --> Average \n",
        "# 1 --> Single\n",
        "# 2 --> Complete\n",
        "def distance_linkage(L):\n",
        "    if L == 0:\n",
        "        return average\n",
        "    elif L == 1:\n",
        "        return single\n",
        "    elif L == 2:\n",
        "        return complete"
      ],
      "metadata": {
        "id": "MpFOsYhBD2Uu"
      },
      "execution_count": 4,
      "outputs": []
    },
    {
      "cell_type": "code",
      "source": [
        "# calculating the distance between two points method using  distance formula\n",
        "def distance_calculation(a, b):\n",
        "  dist=[]\n",
        "  for ai , bi in zip(a,b):\n",
        "    dist.append((ai - bi)**2)\n",
        "  return math.sqrt(sum(dist))"
      ],
      "metadata": {
        "id": "ZGgGyrgx8QD3"
      },
      "execution_count": 5,
      "outputs": []
    },
    {
      "cell_type": "code",
      "source": [
        "# implementation of the average linkage\n",
        "# average similarity between any two items from the two clusters\n",
        "def average(ai, aj):\n",
        "  distances=[]\n",
        "  for ci in ai:\n",
        "    for cj in aj:\n",
        "      distances.append(distance_calculation(ci, cj))\n",
        "  return sum(distances) / len(distances)"
      ],
      "metadata": {
        "id": "jEl1XKUhD0x6"
      },
      "execution_count": 6,
      "outputs": []
    },
    {
      "cell_type": "code",
      "source": [
        "# implemetation of the complete linkage\n",
        "# similarity of the two most dissimilar items in the two clusters\n",
        "def complete(ai, aj):\n",
        "  distances=[]\n",
        "  for ci in ai:\n",
        "    for cj in aj:\n",
        "      distances.append(distance_calculation(ci, cj))\n",
        "  return max(distances)"
      ],
      "metadata": {
        "id": "0c8pRLGdDy88"
      },
      "execution_count": 7,
      "outputs": []
    },
    {
      "cell_type": "code",
      "source": [
        "# implementation of the single linkage\n",
        "# similarity of the two most similar items in the two clusters \n",
        "def single(ai, aj):\n",
        "  distances=[]\n",
        "  for ci in ai:\n",
        "    for cj in aj:\n",
        "      distances.append(distance_calculation(ci, cj))\n",
        "  return min(distances)"
      ],
      "metadata": {
        "id": "oU0-P8AKDxjC"
      },
      "execution_count": 8,
      "outputs": []
    },
    {
      "cell_type": "code",
      "source": [
        "# each datapoint is a cluster when it is beginned\n",
        "# clusters are stored in the form of dictionary\n",
        "def initial_clusters(dataset):\n",
        "    return {did: [dt] for did, dt in enumerate(dataset)}"
      ],
      "metadata": {
        "id": "VtYNS2T9ADsC"
      },
      "execution_count": 9,
      "outputs": []
    },
    {
      "cell_type": "code",
      "source": [
        "# new clsuter are formed by using the appropriate linkage method\n",
        "# which two clusters has to be mergred is returned from this function\n",
        "def near_clusters(clusters,linkage):\n",
        "        min_distance = math.inf\n",
        "        near_clusters = None\n",
        "        c_ids = list(clusters.keys())\n",
        "        #print(c_ids)\n",
        "        for i, cluster_i in enumerate(c_ids[:-1]):\n",
        "            for j, cluster_j in enumerate(c_ids[i+1:]):\n",
        "                dist = linkage(clusters[cluster_i], clusters[cluster_j])\n",
        "                #print(dist)\n",
        "                if dist < min_distance:\n",
        "                    min_distance, near_clusters = dist, (cluster_i, cluster_j)\n",
        "                    #print(near_clusters)\n",
        "        return near_clusters"
      ],
      "metadata": {
        "id": "PsXSO1keASQ_"
      },
      "execution_count": 10,
      "outputs": []
    },
    {
      "cell_type": "code",
      "source": [
        "# merging of two cluster and forming single cluster is functionality of merge_clusters function\n",
        "#the clusters which has to be merged is passed as a input to merge into single cluster \n",
        "def merge_clusters(clusters, ci_id, cj_id):\n",
        "        new_clusters = {0: clusters[ci_id] + clusters[cj_id]}\n",
        "        #print(new_clusters)\n",
        "        for clust_id in clusters.keys():\n",
        "            if (clust_id == ci_id) | (clust_id == cj_id):\n",
        "                continue\n",
        "            new_clusters[len(new_clusters.keys())] = clusters[clust_id]\n",
        "            #print(new_clusters)\n",
        "        return new_clusters"
      ],
      "metadata": {
        "id": "x0M2Jpe0Amcl"
      },
      "execution_count": 11,
      "outputs": []
    },
    {
      "cell_type": "code",
      "source": [
        "# the main function which calls other function in appropriate manner\n",
        "# K - number of clusters\n",
        "def  AgglomerativeHierarchicalClustering(clusters,K,linkage):\n",
        "        while len(clusters.keys()) > K:\n",
        "            near_clusters1 = near_clusters(clusters,linkage)\n",
        "            clusters = merge_clusters(clusters,*near_clusters1)\n",
        "        return clusters"
      ],
      "metadata": {
        "id": "G5TYxmiAAxhx"
      },
      "execution_count": 12,
      "outputs": []
    },
    {
      "cell_type": "code",
      "source": [
        "# this function predict which datapoint belongs to which cluster\n",
        "def prediction_function(clusters,X):\n",
        "     y_pred=[0]*len(X)\n",
        "     print(y_pred)\n",
        "     for id, points in clusters.items():\n",
        "            print(\"Cluster: {}\".format(id))\n",
        "            print(points)\n",
        "            for point in points:\n",
        "                print(\"    {}\".format(point))\n",
        "                for i in range(len(X)):\n",
        "                  #print(i)\n",
        "                  if((point == X[i]).all()):\n",
        "                    #print(y_pred[i])\n",
        "                    y_pred[i]= id+1\n",
        "                    #print(y_pred)\n",
        "     print(y_pred)\n",
        "     return y_pred"
      ],
      "metadata": {
        "id": "TW6RHw6rA2gG"
      },
      "execution_count": 13,
      "outputs": []
    },
    {
      "cell_type": "markdown",
      "source": [
        "Implemeting the KNearest Neighbor Algorithm:"
      ],
      "metadata": {
        "id": "nBFRH2Uty9tB"
      }
    },
    {
      "cell_type": "code",
      "source": [
        "# the cartesian distance is been calculated in this function\n",
        "def cartesian_function(testdata, datas):\n",
        "    test1=testdata.astype('float64')\n",
        "    data1=datas.astype('float64')\n",
        "    diff1 = np.power(test1 - data1, 2)\n",
        "    difference = np.sum(diff1,axis=1)\n",
        "    final_diff = np.power(difference, 0.5)\n",
        "    return final_diff"
      ],
      "metadata": {
        "id": "Mxwhr-nDZjnB"
      },
      "execution_count": 14,
      "outputs": []
    },
    {
      "cell_type": "code",
      "source": [
        "# The classification of the correct labels are been done in this function\n",
        "# for k=3 and 5 --> if the knn classifer doesnt come with the majority decision , i have classified as it based on k =1.\n",
        "def classify(k, label):\n",
        "    #print(k)\n",
        "    output = label[:k]\n",
        "    m = np.count_nonzero(output == 1)\n",
        "    p = np.count_nonzero(output == 2)\n",
        "    c = np.count_nonzero(output == 3)\n",
        "    if m > p and m > c:\n",
        "        return 1\n",
        "    elif p > m and p> c:\n",
        "        return 2\n",
        "    elif c > m and c > p:\n",
        "        return 3\n",
        "    else:\n",
        "      output = label[:1]\n",
        "      return output"
      ],
      "metadata": {
        "id": "WKNa_gntZ3a5"
      },
      "execution_count": 15,
      "outputs": []
    },
    {
      "cell_type": "code",
      "source": [
        "# this function defines the knn classification by finding the distance and sorting it. \n",
        "# this functions calls classify function to classify labels\n",
        "def knn(testsample, k, data,y_train):\n",
        "    labels = y_train\n",
        "    distance = cartesian_function(testsample, data)\n",
        "    #print(distance)\n",
        "    final_distance = np.vstack((distance, labels))\n",
        "    final = final_distance.T[:, 0].argsort()\n",
        "    final_sorted_distance = final_distance.T[final]\n",
        "    #print(final_sorted_distance)\n",
        "    final_sorted_labels = final_sorted_distance.T[1]\n",
        "    #print(final_sorted_labels)\n",
        "    return classify(k,final_sorted_labels)"
      ],
      "metadata": {
        "id": "rfjkuSywuDiU"
      },
      "execution_count": 16,
      "outputs": []
    },
    {
      "cell_type": "code",
      "source": [
        "# calculating the centroids for the clusters\n",
        "def new_centroids(n_c, X, clusters):\n",
        "  cent = np.zeros((n_c, X.shape[1]))\n",
        "  cent = cent.astype('float64')\n",
        "  X = X.astype('float64')\n",
        "  for i, points in clusters.items():\n",
        "            print(\"Cluster: {}\".format(id))\n",
        "            cent[i, :] = np.mean(points, axis=0) \n",
        "  #for i in range(n_c):\n",
        "    #print(np.mean(X[l == i, :], axis=0) )\n",
        "    #cent[i, :] = np.mean(X[l == i, :], axis=0) \n",
        "  return cent"
      ],
      "metadata": {
        "id": "zFlfHSzlhDzu"
      },
      "execution_count": 17,
      "outputs": []
    },
    {
      "cell_type": "code",
      "source": [
        "# euclidean_distance function\n",
        "def euclidean_distance(n_c, X, c):\n",
        "        distance = np.zeros((X.shape[0], n_c))\n",
        "        X=X.astype('float64')\n",
        "        c=c.astype('float64')\n",
        "        #print(type(X))\n",
        "        for i in range(n_c):\n",
        "          a = X - c[i, :]\n",
        "          #print(a)\n",
        "          r_m = np.linalg.norm(a)\n",
        "          distance[:, i] = np.square(r_m)\n",
        "        return distance"
      ],
      "metadata": {
        "id": "W7PI3hali902"
      },
      "execution_count": 18,
      "outputs": []
    },
    {
      "cell_type": "code",
      "source": [
        "# minimum distance function\n",
        "def minimum_distance(distance):\n",
        "        return np.argmin(distance)"
      ],
      "metadata": {
        "id": "zwWUG2l5jCkm"
      },
      "execution_count": 19,
      "outputs": []
    },
    {
      "cell_type": "markdown",
      "source": [
        "Determining which linkage and cluster number is best using dendogram graph"
      ],
      "metadata": {
        "id": "8nejJf1cuBkK"
      }
    },
    {
      "cell_type": "markdown",
      "source": [
        "Dendogram graph for Average linkage"
      ],
      "metadata": {
        "id": "LdGA-kYFuOWP"
      }
    },
    {
      "cell_type": "code",
      "source": [
        "# the denodogram graph for average linkage and the horizontal line which has maximum longest vertical stretch\n",
        "from scipy.cluster.hierarchy import dendrogram, linkage\n",
        "Z = linkage(X, method='average')\n",
        "plt.figure(figsize=(10, 5))\n",
        "dendrogram(Z)\n",
        "plt.hlines(y=5,xmin=0,xmax=3000,lw=2,color='red',linestyles='--')\n",
        "plt.show()"
      ],
      "metadata": {
        "colab": {
          "base_uri": "https://localhost:8080/",
          "height": 445
        },
        "id": "d5qvUvrwo3YN",
        "outputId": "710cfc88-722f-4289-f601-c7e4ecab2e23"
      },
      "execution_count": 20,
      "outputs": [
        {
          "output_type": "display_data",
          "data": {
            "text/plain": [
              "<Figure size 1000x500 with 1 Axes>"
            ],
            "image/png": "[encoded data removed]"
          },
          "metadata": {}
        }
      ]
    },
    {
      "cell_type": "markdown",
      "source": [
        "Dendogram graph for Single linkage"
      ],
      "metadata": {
        "id": "AcFL2M10vOon"
      }
    },
    {
      "cell_type": "code",
      "source": [
        "# the denodogram graph for single linkage and the horizontal line which has maximum longest vertical stretch\n",
        "from scipy.cluster.hierarchy import dendrogram, linkage\n",
        "Z = linkage(X, method='single')\n",
        "plt.figure(figsize=(10, 5))\n",
        "dendrogram(Z)\n",
        "plt.hlines(y=1.3,xmin=0,xmax=3000,lw=2,color='blue',linestyles='--')\n",
        "plt.show()"
      ],
      "metadata": {
        "colab": {
          "base_uri": "https://localhost:8080/",
          "height": 445
        },
        "id": "oB_yb39Eo3wR",
        "outputId": "ee06f668-e16a-4ffd-cc47-56878a1f1727"
      },
      "execution_count": 21,
      "outputs": [
        {
          "output_type": "display_data",
          "data": {
            "text/plain": [
              "<Figure size 1000x500 with 1 Axes>"
            ],
            "image/png": "[encoded data removed]"
          },
          "metadata": {}
        }
      ]
    },
    {
      "cell_type": "markdown",
      "source": [
        "Dendogram graph for Complete linkage"
      ],
      "metadata": {
        "id": "cm7YfVAw-O_O"
      }
    },
    {
      "cell_type": "code",
      "source": [
        "# the denodogram graph for complete linkage and the horizontal line which has maximum longest vertical stretch\n",
        "from scipy.cluster.hierarchy import dendrogram, linkage\n",
        "Z = linkage(X, method='complete')\n",
        "plt.figure(figsize=(10, 5))\n",
        "dendrogram(Z)\n",
        "plt.hlines(y=6,xmin=0,xmax=3000,lw=2,color='blue',linestyles='--')\n",
        "plt.show()"
      ],
      "metadata": {
        "colab": {
          "base_uri": "https://localhost:8080/",
          "height": 445
        },
        "id": "27cF66EovXkW",
        "outputId": "eb45a6be-d628-4b12-b70f-3dd44c9d297e"
      },
      "execution_count": 22,
      "outputs": [
        {
          "output_type": "display_data",
          "data": {
            "text/plain": [
              "<Figure size 1000x500 with 1 Axes>"
            ],
            "image/png": "[encoded data removed]"
          },
          "metadata": {}
        }
      ]
    },
    {
      "cell_type": "markdown",
      "source": [
        "Running Hierarchical Clustering"
      ],
      "metadata": {
        "id": "8EEcQRkp28PW"
      }
    },
    {
      "cell_type": "markdown",
      "source": [
        "For the number of cluster: 2 and Linkage method : Average"
      ],
      "metadata": {
        "id": "LFfzYhOD3ajY"
      }
    },
    {
      "cell_type": "code",
      "source": [
        "# k gives the value of number of clusters\n",
        "# L is the linkage method value\n",
        "# 0 --> average\n",
        "# 1 --> single\n",
        "# 2 --> complete\n",
        "# final_clusters gives the cluster and the points in each of the clusters\n",
        "# y_pred gives the label for the datapoint\n",
        "K = 2\n",
        "L = 0\n",
        "clusters = initial_clusters(X)\n",
        "linkage1 = distance_linkage(L)\n",
        "final_clusters= AgglomerativeHierarchicalClustering(clusters,K,linkage1)\n",
        "print(\" the labels for the datapoints: \")\n",
        "y_pred =prediction_function(final_clusters,X)\n",
        "#print(len(y_pred))\n",
        "y_pred=np.array(y_pred)\n",
        "y = (np.array(y)).astype(int)"
      ],
      "metadata": {
        "colab": {
          "base_uri": "https://localhost:8080/"
        },
        "id": "jjIp8qIxvtdB",
        "outputId": "5289d1f5-32dd-4f5a-e64c-065a7cc2572d"
      },
      "execution_count": 23,
      "outputs": [
        {
          "output_type": "stream",
          "name": "stdout",
          "text": [
            " the labels for the datapoints: \n",
            "[0, 0, 0, 0, 0, 0, 0, 0, 0, 0, 0, 0, 0, 0, 0, 0, 0, 0, 0, 0, 0, 0, 0, 0, 0, 0, 0, 0, 0, 0, 0, 0, 0, 0, 0, 0, 0, 0, 0, 0, 0, 0, 0, 0, 0, 0, 0, 0, 0, 0, 0, 0, 0, 0, 0, 0, 0, 0, 0, 0, 0, 0, 0, 0, 0, 0, 0, 0, 0, 0, 0, 0, 0, 0, 0, 0, 0, 0, 0, 0, 0, 0, 0, 0, 0, 0, 0, 0, 0, 0, 0, 0, 0, 0, 0, 0, 0, 0, 0, 0, 0, 0, 0, 0, 0, 0, 0, 0, 0, 0, 0, 0, 0, 0, 0, 0, 0, 0, 0, 0, 0, 0, 0, 0, 0, 0, 0, 0, 0, 0, 0, 0, 0, 0, 0, 0, 0, 0, 0, 0, 0, 0, 0, 0, 0, 0, 0, 0]\n",
            "Cluster: 0\n",
            "[array([14.88  , 14.57  ,  0.8811,  5.554 ,  3.333 ,  1.018 ,  4.956 ]), array([14.92  , 14.43  ,  0.9006,  5.384 ,  3.412 ,  1.142 ,  5.088 ]), array([14.52  , 14.6   ,  0.8557,  5.741 ,  3.113 ,  1.481 ,  5.487 ]), array([15.26 , 14.84 ,  0.871,  5.763,  3.312,  2.221,  5.22 ]), array([15.38  , 14.77  ,  0.8857,  5.662 ,  3.419 ,  1.999 ,  5.222 ]), array([15.05  , 14.68  ,  0.8779,  5.712 ,  3.328 ,  2.129 ,  5.36  ]), array([14.86  , 14.67  ,  0.8676,  5.678 ,  3.258 ,  2.129 ,  5.351 ]), array([15.03  , 14.77  ,  0.8658,  5.702 ,  3.212 ,  1.933 ,  5.439 ]), array([15.01  , 14.76  ,  0.8657,  5.789 ,  3.245 ,  1.791 ,  5.001 ]), array([15.69  , 14.75  ,  0.9058,  5.527 ,  3.514 ,  1.599 ,  5.046 ]), array([15.36  , 14.76  ,  0.8861,  5.701 ,  3.393 ,  1.367 ,  5.132 ]), array([15.88  , 14.9   ,  0.8988,  5.618 ,  3.507 ,  0.7651,  5.091 ]), array([16.19  , 15.16  ,  0.8849,  5.833 ,  3.421 ,  0.903 ,  5.307 ]), array([16.14  , 14.99  ,  0.9034,  5.658 ,  3.562 ,  1.355 ,  5.175 ]), array([16.12 , 15.   ,  0.9  ,  5.709,  3.485,  2.27 ,  5.443]), array([16.2   , 15.27  ,  0.8734,  5.826 ,  3.464 ,  2.823 ,  5.527 ]), array([16.63  , 15.46  ,  0.8747,  6.053 ,  3.465 ,  2.04  ,  5.877 ]), array([16.44 , 15.25 ,  0.888,  5.884,  3.505,  1.969,  5.533]), array([17.08  , 15.38  ,  0.9079,  5.832 ,  3.683 ,  2.956 ,  5.484 ]), array([17.12  , 15.55  ,  0.8892,  5.85  ,  3.566 ,  2.858 ,  5.746 ]), array([15.49  , 14.94  ,  0.8724,  5.757 ,  3.371 ,  3.412 ,  5.228 ]), array([15.99  , 14.89  ,  0.9064,  5.363 ,  3.582 ,  3.336 ,  5.144 ]), array([15.11  , 14.54  ,  0.8986,  5.579 ,  3.462 ,  3.128 ,  5.18  ]), array([14.99  , 14.56  ,  0.8883,  5.57  ,  3.377 ,  2.958 ,  5.175 ]), array([14.79  , 14.52  ,  0.8819,  5.545 ,  3.291 ,  2.704 ,  5.111 ]), array([13.89 , 14.02 ,  0.888,  5.439,  3.199,  3.986,  4.738]), array([14.59  , 14.28  ,  0.8993,  5.351 ,  3.333 ,  4.185 ,  4.781 ]), array([14.69  , 14.49  ,  0.8799,  5.563 ,  3.259 ,  3.586 ,  5.219 ]), array([14.33  , 14.28  ,  0.8831,  5.504 ,  3.199 ,  3.328 ,  5.224 ]), array([14.09  , 14.41  ,  0.8529,  5.717 ,  3.186 ,  3.92  ,  5.299 ]), array([14.43  , 14.4   ,  0.8751,  5.585 ,  3.272 ,  3.975 ,  5.144 ]), array([14.49  , 14.61  ,  0.8538,  5.715 ,  3.113 ,  4.116 ,  5.396 ]), array([14.29 , 14.09 ,  0.905,  5.291,  3.337,  2.699,  4.825]), array([14.38  , 14.21  ,  0.8951,  5.386 ,  3.312 ,  2.462 ,  4.956 ]), array([14.11  , 14.1   ,  0.8911,  5.42  ,  3.302 ,  2.7   ,  5.    ]), array([14.11 , 14.18 ,  0.882,  5.541,  3.221,  2.754,  5.038]), array([14.46  , 14.35  ,  0.8818,  5.388 ,  3.377 ,  2.802 ,  5.044 ]), array([13.78  , 14.06  ,  0.8759,  5.479 ,  3.156 ,  3.136 ,  4.872 ]), array([13.74  , 14.05  ,  0.8744,  5.482 ,  3.114 ,  2.932 ,  4.825 ]), array([13.84  , 13.94  ,  0.8955,  5.324 ,  3.379 ,  2.259 ,  4.805 ]), array([13.94  , 14.17  ,  0.8728,  5.585 ,  3.15  ,  2.124 ,  5.012 ]), array([14.03  , 14.16  ,  0.8796,  5.438 ,  3.201 ,  1.717 ,  5.001 ]), array([13.8   , 14.04  ,  0.8794,  5.376 ,  3.155 ,  1.56  ,  4.961 ]), array([13.02  , 13.76  ,  0.8641,  5.395 ,  3.026 ,  3.373 ,  4.825 ]), array([13.45  , 14.02  ,  0.8604,  5.516 ,  3.065 ,  3.531 ,  5.097 ]), array([12.54  , 13.67  ,  0.8425,  5.451 ,  2.879 ,  3.082 ,  5.491 ]), array([12.62  , 13.67  ,  0.8481,  5.41  ,  2.911 ,  3.306 ,  5.231 ]), array([12.76  , 13.38  ,  0.8964,  5.073 ,  3.155 ,  2.828 ,  4.83  ]), array([12.67  , 13.32  ,  0.8977,  4.984 ,  3.135 ,  2.3   ,  4.745 ]), array([12.74  , 13.67  ,  0.8564,  5.395 ,  2.956 ,  2.504 ,  4.869 ]), array([11.43  , 13.13  ,  0.8335,  5.176 ,  2.719 ,  2.221 ,  5.132 ]), array([12.1   , 13.15  ,  0.8793,  5.105 ,  2.941 ,  2.201 ,  5.056 ]), array([12.08  , 13.23  ,  0.8664,  5.099 ,  2.936 ,  1.415 ,  4.961 ]), array([12.21  , 13.47  ,  0.8453,  5.357 ,  2.893 ,  1.661 ,  5.178 ]), array([12.11  , 13.47  ,  0.8392,  5.159 ,  3.032 ,  1.502 ,  4.519 ]), array([13.16  , 13.82  ,  0.8662,  5.454 ,  2.975 ,  0.8551,  5.056 ]), array([12.8  , 13.47 ,  0.886,  5.16 ,  3.126,  4.873,  4.914]), array([13.37  , 13.78  ,  0.8849,  5.32  ,  3.128 ,  4.67  ,  5.091 ]), array([12.22  , 13.32  ,  0.8652,  5.224 ,  2.967 ,  5.469 ,  5.221 ]), array([12.38  , 13.44  ,  0.8609,  5.219 ,  2.989 ,  5.472 ,  5.045 ]), array([12.79  , 13.53  ,  0.8786,  5.224 ,  3.054 ,  5.483 ,  4.958 ]), array([13.07 , 13.92 ,  0.848,  5.472,  2.994,  5.304,  5.395]), array([13.34 , 13.95 ,  0.862,  5.389,  3.074,  5.995,  5.307]), array([12.26  , 13.6   ,  0.8333,  5.408 ,  2.833 ,  4.756 ,  5.36  ]), array([12.13  , 13.73  ,  0.8081,  5.394 ,  2.745 ,  4.825 ,  5.22  ]), array([12.44  , 13.59  ,  0.8462,  5.319 ,  2.897 ,  4.924 ,  5.27  ]), array([12.05  , 13.41  ,  0.8416,  5.267 ,  2.847 ,  4.988 ,  5.046 ]), array([12.55  , 13.57  ,  0.8558,  5.333 ,  2.968 ,  4.419 ,  5.176 ]), array([11.82  , 13.4   ,  0.8274,  5.314 ,  2.777 ,  4.471 ,  5.178 ]), array([11.75  , 13.52  ,  0.8082,  5.444 ,  2.678 ,  4.378 ,  5.31  ]), array([12.02  , 13.33  ,  0.8503,  5.35  ,  2.81  ,  4.271 ,  5.308 ]), array([12.11  , 13.27  ,  0.8639,  5.236 ,  2.975 ,  4.132 ,  5.012 ]), array([11.36  , 13.05  ,  0.8382,  5.175 ,  2.755 ,  4.048 ,  5.263 ]), array([11.27  , 12.86  ,  0.8563,  5.091 ,  2.804 ,  3.985 ,  5.001 ]), array([11.35  , 13.12  ,  0.8291,  5.176 ,  2.668 ,  4.337 ,  5.132 ]), array([11.27  , 12.97  ,  0.8419,  5.088 ,  2.763 ,  4.309 ,  5.    ]), array([11.18  , 13.04  ,  0.8266,  5.22  ,  2.693 ,  3.332 ,  5.001 ]), array([11.24  , 13.    ,  0.8359,  5.09  ,  2.715 ,  3.521 ,  5.088 ]), array([11.34  , 12.87  ,  0.8596,  5.053 ,  2.849 ,  3.347 ,  5.003 ]), array([12.15  , 13.45  ,  0.8443,  5.417 ,  2.837 ,  3.638 ,  5.338 ]), array([11.87  , 13.02  ,  0.8795,  5.132 ,  2.953 ,  3.597 ,  5.132 ]), array([11.14  , 12.79  ,  0.8558,  5.011 ,  2.794 ,  6.388 ,  5.049 ]), array([11.02  , 13.    ,  0.8189,  5.325 ,  2.701 ,  6.735 ,  5.163 ]), array([11.55  , 13.1   ,  0.8455,  5.167 ,  2.845 ,  6.715 ,  4.956 ]), array([11.23  , 12.82  ,  0.8594,  5.089 ,  2.821 ,  7.524 ,  4.957 ]), array([12.01  , 13.52  ,  0.8249,  5.405 ,  2.776 ,  6.992 ,  5.27  ]), array([10.74  , 12.73  ,  0.8329,  5.145 ,  2.642 ,  4.702 ,  4.963 ]), array([10.82  , 12.83  ,  0.8256,  5.18  ,  2.63  ,  4.853 ,  5.089 ]), array([10.8  , 12.57 ,  0.859,  4.981,  2.821,  4.773,  5.063]), array([10.59  , 12.41  ,  0.8648,  4.899 ,  2.787 ,  4.975 ,  4.794 ]), array([10.83  , 12.96  ,  0.8099,  5.278 ,  2.641 ,  5.182 ,  5.185 ]), array([10.93 , 12.8  ,  0.839,  5.046,  2.717,  5.398,  5.045]), array([11.21  , 13.13  ,  0.8167,  5.279 ,  2.687 ,  6.169 ,  5.275 ]), array([11.19  , 13.05  ,  0.8253,  5.25  ,  2.675 ,  5.813 ,  5.219 ]), array([11.48  , 13.05  ,  0.8473,  5.18  ,  2.758 ,  5.876 ,  5.002 ]), array([11.4   , 13.08  ,  0.8375,  5.136 ,  2.763 ,  5.588 ,  5.089 ]), array([11.26  , 13.01  ,  0.8355,  5.186 ,  2.71  ,  5.335 ,  5.092 ]), array([11.49  , 13.22  ,  0.8263,  5.304 ,  2.695 ,  5.388 ,  5.31  ]), array([13.32  , 13.94  ,  0.8613,  5.541 ,  3.073 ,  7.035 ,  5.44  ])]\n",
            "    [14.88   14.57    0.8811  5.554   3.333   1.018   4.956 ]\n",
            "    [14.92   14.43    0.9006  5.384   3.412   1.142   5.088 ]\n",
            "    [14.52   14.6     0.8557  5.741   3.113   1.481   5.487 ]\n",
            "    [15.26  14.84   0.871  5.763  3.312  2.221  5.22 ]\n",
            "    [15.38   14.77    0.8857  5.662   3.419   1.999   5.222 ]\n",
            "    [15.05   14.68    0.8779  5.712   3.328   2.129   5.36  ]\n",
            "    [14.86   14.67    0.8676  5.678   3.258   2.129   5.351 ]\n",
            "    [15.03   14.77    0.8658  5.702   3.212   1.933   5.439 ]\n",
            "    [15.01   14.76    0.8657  5.789   3.245   1.791   5.001 ]\n",
            "    [15.69   14.75    0.9058  5.527   3.514   1.599   5.046 ]\n",
            "    [15.36   14.76    0.8861  5.701   3.393   1.367   5.132 ]\n",
            "    [15.88   14.9     0.8988  5.618   3.507   0.7651  5.091 ]\n",
            "    [16.19   15.16    0.8849  5.833   3.421   0.903   5.307 ]\n",
            "    [16.14   14.99    0.9034  5.658   3.562   1.355   5.175 ]\n",
            "    [16.12  15.     0.9    5.709  3.485  2.27   5.443]\n",
            "    [16.2    15.27    0.8734  5.826   3.464   2.823   5.527 ]\n",
            "    [16.63   15.46    0.8747  6.053   3.465   2.04    5.877 ]\n",
            "    [16.44  15.25   0.888  5.884  3.505  1.969  5.533]\n",
            "    [17.08   15.38    0.9079  5.832   3.683   2.956   5.484 ]\n",
            "    [17.12   15.55    0.8892  5.85    3.566   2.858   5.746 ]\n",
            "    [15.49   14.94    0.8724  5.757   3.371   3.412   5.228 ]\n",
            "    [15.99   14.89    0.9064  5.363   3.582   3.336   5.144 ]\n",
            "    [15.11   14.54    0.8986  5.579   3.462   3.128   5.18  ]\n",
            "    [14.99   14.56    0.8883  5.57    3.377   2.958   5.175 ]\n",
            "    [14.79   14.52    0.8819  5.545   3.291   2.704   5.111 ]\n",
            "    [13.89  14.02   0.888  5.439  3.199  3.986  4.738]\n",
            "    [14.59   14.28    0.8993  5.351   3.333   4.185   4.781 ]\n",
            "    [14.69   14.49    0.8799  5.563   3.259   3.586   5.219 ]\n",
            "    [14.33   14.28    0.8831  5.504   3.199   3.328   5.224 ]\n",
            "    [14.09   14.41    0.8529  5.717   3.186   3.92    5.299 ]\n",
            "    [14.43   14.4     0.8751  5.585   3.272   3.975   5.144 ]\n",
            "    [14.49   14.61    0.8538  5.715   3.113   4.116   5.396 ]\n",
            "    [14.29  14.09   0.905  5.291  3.337  2.699  4.825]\n",
            "    [14.38   14.21    0.8951  5.386   3.312   2.462   4.956 ]\n",
            "    [14.11   14.1     0.8911  5.42    3.302   2.7     5.    ]\n",
            "    [14.11  14.18   0.882  5.541  3.221  2.754  5.038]\n",
            "    [14.46   14.35    0.8818  5.388   3.377   2.802   5.044 ]\n",
            "    [13.78   14.06    0.8759  5.479   3.156   3.136   4.872 ]\n",
            "    [13.74   14.05    0.8744  5.482   3.114   2.932   4.825 ]\n",
            "    [13.84   13.94    0.8955  5.324   3.379   2.259   4.805 ]\n",
            "    [13.94   14.17    0.8728  5.585   3.15    2.124   5.012 ]\n",
            "    [14.03   14.16    0.8796  5.438   3.201   1.717   5.001 ]\n",
            "    [13.8    14.04    0.8794  5.376   3.155   1.56    4.961 ]\n",
            "    [13.02   13.76    0.8641  5.395   3.026   3.373   4.825 ]\n",
            "    [13.45   14.02    0.8604  5.516   3.065   3.531   5.097 ]\n",
            "    [12.54   13.67    0.8425  5.451   2.879   3.082   5.491 ]\n",
            "    [12.62   13.67    0.8481  5.41    2.911   3.306   5.231 ]\n",
            "    [12.76   13.38    0.8964  5.073   3.155   2.828   4.83  ]\n",
            "    [12.67   13.32    0.8977  4.984   3.135   2.3     4.745 ]\n",
            "    [12.74   13.67    0.8564  5.395   2.956   2.504   4.869 ]\n",
            "    [11.43   13.13    0.8335  5.176   2.719   2.221   5.132 ]\n",
            "    [12.1    13.15    0.8793  5.105   2.941   2.201   5.056 ]\n",
            "    [12.08   13.23    0.8664  5.099   2.936   1.415   4.961 ]\n",
            "    [12.21   13.47    0.8453  5.357   2.893   1.661   5.178 ]\n",
            "    [12.11   13.47    0.8392  5.159   3.032   1.502   4.519 ]\n",
            "    [13.16   13.82    0.8662  5.454   2.975   0.8551  5.056 ]\n",
            "    [12.8   13.47   0.886  5.16   3.126  4.873  4.914]\n",
            "    [13.37   13.78    0.8849  5.32    3.128   4.67    5.091 ]\n",
            "    [12.22   13.32    0.8652  5.224   2.967   5.469   5.221 ]\n",
            "    [12.38   13.44    0.8609  5.219   2.989   5.472   5.045 ]\n",
            "    [12.79   13.53    0.8786  5.224   3.054   5.483   4.958 ]\n",
            "    [13.07  13.92   0.848  5.472  2.994  5.304  5.395]\n",
            "    [13.34  13.95   0.862  5.389  3.074  5.995  5.307]\n",
            "    [12.26   13.6     0.8333  5.408   2.833   4.756   5.36  ]\n",
            "    [12.13   13.73    0.8081  5.394   2.745   4.825   5.22  ]\n",
            "    [12.44   13.59    0.8462  5.319   2.897   4.924   5.27  ]\n",
            "    [12.05   13.41    0.8416  5.267   2.847   4.988   5.046 ]\n",
            "    [12.55   13.57    0.8558  5.333   2.968   4.419   5.176 ]\n",
            "    [11.82   13.4     0.8274  5.314   2.777   4.471   5.178 ]\n",
            "    [11.75   13.52    0.8082  5.444   2.678   4.378   5.31  ]\n",
            "    [12.02   13.33    0.8503  5.35    2.81    4.271   5.308 ]\n",
            "    [12.11   13.27    0.8639  5.236   2.975   4.132   5.012 ]\n",
            "    [11.36   13.05    0.8382  5.175   2.755   4.048   5.263 ]\n",
            "    [11.27   12.86    0.8563  5.091   2.804   3.985   5.001 ]\n",
            "    [11.35   13.12    0.8291  5.176   2.668   4.337   5.132 ]\n",
            "    [11.27   12.97    0.8419  5.088   2.763   4.309   5.    ]\n",
            "    [11.18   13.04    0.8266  5.22    2.693   3.332   5.001 ]\n",
            "    [11.24   13.      0.8359  5.09    2.715   3.521   5.088 ]\n",
            "    [11.34   12.87    0.8596  5.053   2.849   3.347   5.003 ]\n",
            "    [12.15   13.45    0.8443  5.417   2.837   3.638   5.338 ]\n",
            "    [11.87   13.02    0.8795  5.132   2.953   3.597   5.132 ]\n",
            "    [11.14   12.79    0.8558  5.011   2.794   6.388   5.049 ]\n",
            "    [11.02   13.      0.8189  5.325   2.701   6.735   5.163 ]\n",
            "    [11.55   13.1     0.8455  5.167   2.845   6.715   4.956 ]\n",
            "    [11.23   12.82    0.8594  5.089   2.821   7.524   4.957 ]\n",
            "    [12.01   13.52    0.8249  5.405   2.776   6.992   5.27  ]\n",
            "    [10.74   12.73    0.8329  5.145   2.642   4.702   4.963 ]\n",
            "    [10.82   12.83    0.8256  5.18    2.63    4.853   5.089 ]\n",
            "    [10.8   12.57   0.859  4.981  2.821  4.773  5.063]\n",
            "    [10.59   12.41    0.8648  4.899   2.787   4.975   4.794 ]\n",
            "    [10.83   12.96    0.8099  5.278   2.641   5.182   5.185 ]\n",
            "    [10.93  12.8    0.839  5.046  2.717  5.398  5.045]\n",
            "    [11.21   13.13    0.8167  5.279   2.687   6.169   5.275 ]\n",
            "    [11.19   13.05    0.8253  5.25    2.675   5.813   5.219 ]\n",
            "    [11.48   13.05    0.8473  5.18    2.758   5.876   5.002 ]\n",
            "    [11.4    13.08    0.8375  5.136   2.763   5.588   5.089 ]\n",
            "    [11.26   13.01    0.8355  5.186   2.71    5.335   5.092 ]\n",
            "    [11.49   13.22    0.8263  5.304   2.695   5.388   5.31  ]\n",
            "    [13.32   13.94    0.8613  5.541   3.073   7.035   5.44  ]\n",
            "Cluster: 1\n",
            "[array([20.2   , 16.89  ,  0.8894,  6.285 ,  3.864 ,  5.173 ,  6.187 ]), array([20.24  , 16.91  ,  0.8897,  6.315 ,  3.962 ,  5.901 ,  6.188 ]), array([21.18  , 17.21  ,  0.8989,  6.573 ,  4.033 ,  5.78  ,  6.231 ]), array([20.71  , 17.23  ,  0.8763,  6.579 ,  3.814 ,  4.451 ,  6.451 ]), array([20.97  , 17.25  ,  0.8859,  6.563 ,  3.991 ,  4.677 ,  6.316 ]), array([20.88  , 17.05  ,  0.9031,  6.45  ,  4.032 ,  5.016 ,  6.321 ]), array([19.14  , 16.61  ,  0.8722,  6.259 ,  3.737 ,  6.682 ,  6.053 ]), array([18.83  , 16.29  ,  0.8917,  6.037 ,  3.786 ,  2.553 ,  5.879 ]), array([18.85  , 16.17  ,  0.9056,  6.152 ,  3.806 ,  2.843 ,  6.2   ]), array([18.43  , 15.97  ,  0.9077,  5.98  ,  3.771 ,  2.984 ,  5.905 ]), array([18.27 , 16.09 ,  0.887,  6.173,  3.651,  2.443,  6.197]), array([18.45  , 16.12  ,  0.8921,  6.107 ,  3.769 ,  2.235 ,  5.794 ]), array([17.99  , 15.86  ,  0.8992,  5.89  ,  3.694 ,  2.068 ,  5.837 ]), array([17.98  , 15.85  ,  0.8993,  5.979 ,  3.687 ,  2.257 ,  5.919 ]), array([18.72 , 16.34 ,  0.881,  6.219,  3.684,  2.188,  6.097]), array([19.06  , 16.45  ,  0.8854,  6.416 ,  3.719 ,  2.248 ,  6.163 ]), array([19.13  , 16.31  ,  0.9035,  6.183 ,  3.902 ,  2.109 ,  5.924 ]), array([18.88  , 16.26  ,  0.8969,  6.084 ,  3.764 ,  1.649 ,  6.109 ]), array([18.55  , 16.22  ,  0.8865,  6.153 ,  3.674 ,  1.738 ,  5.894 ]), array([20.1   , 16.99  ,  0.8746,  6.581 ,  3.785 ,  1.955 ,  6.449 ]), array([20.16  , 17.03  ,  0.8735,  6.513 ,  3.773 ,  1.91  ,  6.185 ]), array([19.57  , 16.74  ,  0.8779,  6.384 ,  3.772 ,  1.472 ,  6.273 ]), array([18.94 , 16.49 ,  0.875,  6.445,  3.639,  5.064,  6.362]), array([18.72  , 16.19  ,  0.8977,  6.006 ,  3.857 ,  5.324 ,  5.879 ]), array([18.96  , 16.2   ,  0.9077,  6.051 ,  3.897 ,  4.334 ,  5.75  ]), array([18.75  , 16.18  ,  0.8999,  6.111 ,  3.869 ,  4.188 ,  5.992 ]), array([18.65  , 16.41  ,  0.8698,  6.285 ,  3.594 ,  4.391 ,  6.102 ]), array([19.46  , 16.5   ,  0.8985,  6.113 ,  3.892 ,  4.308 ,  6.009 ]), array([19.18  , 16.63  ,  0.8717,  6.369 ,  3.681 ,  3.357 ,  6.229 ]), array([18.95  , 16.42  ,  0.8829,  6.248 ,  3.755 ,  3.368 ,  6.148 ]), array([19.15 , 16.45 ,  0.889,  6.245,  3.815,  3.084,  6.185]), array([18.89  , 16.23  ,  0.9008,  6.227 ,  3.769 ,  3.639 ,  5.966 ]), array([19.38  , 16.72  ,  0.8716,  6.303 ,  3.791 ,  3.678 ,  5.965 ]), array([18.98 , 16.66 ,  0.859,  6.549,  3.67 ,  3.691,  6.498]), array([19.94  , 16.92  ,  0.8752,  6.675 ,  3.763 ,  3.252 ,  6.55  ]), array([20.03  , 16.9   ,  0.8811,  6.493 ,  3.857 ,  3.063 ,  6.32  ]), array([19.51 , 16.71 ,  0.878,  6.366,  3.801,  2.962,  6.185]), array([15.26  , 14.85  ,  0.8696,  5.714 ,  3.242 ,  4.543 ,  5.314 ]), array([15.78  , 14.91  ,  0.8923,  5.674 ,  3.434 ,  5.593 ,  5.136 ]), array([13.99  , 13.83  ,  0.9183,  5.119 ,  3.383 ,  5.234 ,  4.781 ]), array([16.77  , 15.62  ,  0.8638,  5.927 ,  3.438 ,  4.92  ,  5.795 ]), array([16.53  , 15.34  ,  0.8823,  5.875 ,  3.467 ,  5.532 ,  5.88  ]), array([17.55  , 15.66  ,  0.8991,  5.791 ,  3.69  ,  5.366 ,  5.661 ]), array([16.41  , 15.25  ,  0.8866,  5.718 ,  3.525 ,  4.217 ,  5.618 ]), array([16.17  , 15.38  ,  0.8588,  5.762 ,  3.387 ,  4.286 ,  5.703 ]), array([16.82  , 15.51  ,  0.8786,  6.017 ,  3.486 ,  4.004 ,  5.841 ]), array([17.32  , 15.91  ,  0.8599,  6.064 ,  3.403 ,  3.824 ,  5.922 ]), array([17.63 , 15.86 ,  0.88 ,  6.033,  3.573,  3.747,  5.929]), array([18.14  , 16.12  ,  0.8772,  6.059 ,  3.563 ,  3.619 ,  6.011 ])]\n",
            "    [20.2    16.89    0.8894  6.285   3.864   5.173   6.187 ]\n",
            "    [20.24   16.91    0.8897  6.315   3.962   5.901   6.188 ]\n",
            "    [21.18   17.21    0.8989  6.573   4.033   5.78    6.231 ]\n",
            "    [20.71   17.23    0.8763  6.579   3.814   4.451   6.451 ]\n",
            "    [20.97   17.25    0.8859  6.563   3.991   4.677   6.316 ]\n",
            "    [20.88   17.05    0.9031  6.45    4.032   5.016   6.321 ]\n",
            "    [19.14   16.61    0.8722  6.259   3.737   6.682   6.053 ]\n",
            "    [18.83   16.29    0.8917  6.037   3.786   2.553   5.879 ]\n",
            "    [18.85   16.17    0.9056  6.152   3.806   2.843   6.2   ]\n",
            "    [18.43   15.97    0.9077  5.98    3.771   2.984   5.905 ]\n",
            "    [18.27  16.09   0.887  6.173  3.651  2.443  6.197]\n",
            "    [18.45   16.12    0.8921  6.107   3.769   2.235   5.794 ]\n",
            "    [17.99   15.86    0.8992  5.89    3.694   2.068   5.837 ]\n",
            "    [17.98   15.85    0.8993  5.979   3.687   2.257   5.919 ]\n",
            "    [18.72  16.34   0.881  6.219  3.684  2.188  6.097]\n",
            "    [19.06   16.45    0.8854  6.416   3.719   2.248   6.163 ]\n",
            "    [19.13   16.31    0.9035  6.183   3.902   2.109   5.924 ]\n",
            "    [18.88   16.26    0.8969  6.084   3.764   1.649   6.109 ]\n",
            "    [18.55   16.22    0.8865  6.153   3.674   1.738   5.894 ]\n",
            "    [20.1    16.99    0.8746  6.581   3.785   1.955   6.449 ]\n",
            "    [20.16   17.03    0.8735  6.513   3.773   1.91    6.185 ]\n",
            "    [19.57   16.74    0.8779  6.384   3.772   1.472   6.273 ]\n",
            "    [18.94  16.49   0.875  6.445  3.639  5.064  6.362]\n",
            "    [18.72   16.19    0.8977  6.006   3.857   5.324   5.879 ]\n",
            "    [18.96   16.2     0.9077  6.051   3.897   4.334   5.75  ]\n",
            "    [18.75   16.18    0.8999  6.111   3.869   4.188   5.992 ]\n",
            "    [18.65   16.41    0.8698  6.285   3.594   4.391   6.102 ]\n",
            "    [19.46   16.5     0.8985  6.113   3.892   4.308   6.009 ]\n",
            "    [19.18   16.63    0.8717  6.369   3.681   3.357   6.229 ]\n",
            "    [18.95   16.42    0.8829  6.248   3.755   3.368   6.148 ]\n",
            "    [19.15  16.45   0.889  6.245  3.815  3.084  6.185]\n",
            "    [18.89   16.23    0.9008  6.227   3.769   3.639   5.966 ]\n",
            "    [19.38   16.72    0.8716  6.303   3.791   3.678   5.965 ]\n",
            "    [18.98  16.66   0.859  6.549  3.67   3.691  6.498]\n",
            "    [19.94   16.92    0.8752  6.675   3.763   3.252   6.55  ]\n",
            "    [20.03   16.9     0.8811  6.493   3.857   3.063   6.32  ]\n",
            "    [19.51  16.71   0.878  6.366  3.801  2.962  6.185]\n",
            "    [15.26   14.85    0.8696  5.714   3.242   4.543   5.314 ]\n",
            "    [15.78   14.91    0.8923  5.674   3.434   5.593   5.136 ]\n",
            "    [13.99   13.83    0.9183  5.119   3.383   5.234   4.781 ]\n",
            "    [16.77   15.62    0.8638  5.927   3.438   4.92    5.795 ]\n",
            "    [16.53   15.34    0.8823  5.875   3.467   5.532   5.88  ]\n",
            "    [17.55   15.66    0.8991  5.791   3.69    5.366   5.661 ]\n",
            "    [16.41   15.25    0.8866  5.718   3.525   4.217   5.618 ]\n",
            "    [16.17   15.38    0.8588  5.762   3.387   4.286   5.703 ]\n",
            "    [16.82   15.51    0.8786  6.017   3.486   4.004   5.841 ]\n",
            "    [17.32   15.91    0.8599  6.064   3.403   3.824   5.922 ]\n",
            "    [17.63  15.86   0.88   6.033  3.573  3.747  5.929]\n",
            "    [18.14   16.12    0.8772  6.059   3.563   3.619   6.011 ]\n",
            "[1, 1, 1, 1, 1, 1, 1, 1, 1, 1, 2, 1, 1, 1, 1, 1, 2, 1, 1, 1, 1, 1, 1, 1, 1, 1, 1, 1, 1, 1, 1, 1, 1, 1, 1, 1, 1, 1, 1, 1, 1, 2, 1, 1, 1, 1, 1, 1, 1, 1, 2, 2, 2, 2, 2, 1, 2, 2, 2, 2, 2, 2, 2, 2, 2, 2, 2, 2, 2, 2, 2, 2, 2, 2, 2, 2, 2, 2, 2, 2, 2, 2, 2, 2, 2, 2, 2, 2, 2, 2, 2, 2, 1, 2, 2, 2, 2, 2, 1, 1, 1, 1, 1, 1, 1, 1, 1, 1, 1, 1, 1, 1, 1, 1, 1, 1, 1, 1, 1, 1, 1, 1, 1, 1, 1, 1, 1, 1, 1, 1, 1, 1, 1, 1, 1, 1, 1, 1, 1, 1, 1, 1, 1, 1, 1, 1, 1, 1]\n"
          ]
        }
      ]
    },
    {
      "cell_type": "code",
      "source": [
        "centroids= new_centroids(K,X,final_clusters)\n",
        "print(centroids)"
      ],
      "metadata": {
        "colab": {
          "base_uri": "https://localhost:8080/"
        },
        "id": "3Ciikk4UhwTf",
        "outputId": "9d0587ef-953d-4962-aa89-54b25fbde4c7"
      },
      "execution_count": 24,
      "outputs": [
        {
          "output_type": "stream",
          "name": "stdout",
          "text": [
            "Cluster: <built-in function id>\n",
            "Cluster: <built-in function id>\n",
            "[[13.26414141 13.85686869  0.86372222  5.39762626  3.06669697  3.5888\n",
            "   5.13316162]\n",
            " [18.61530612 16.23857143  0.88575102  6.16559184  3.71246939  3.73306122\n",
            "   6.00618367]]\n"
          ]
        }
      ]
    },
    {
      "cell_type": "code",
      "source": [
        "y_test = (np.array(y_test)).astype(int)\n",
        "k=[1,3,5]\n",
        "for v in k:\n",
        "  predictions=0\n",
        "  for i in range(len(X_test)):\n",
        "    #print(X[i])\n",
        "    distance = euclidean_distance(K,X_test[i], centroids)\n",
        "    l = minimum_distance(distance)\n",
        "    #print(l)\n",
        "    #print(K)\n",
        "    yp=[]\n",
        "    for id, p in final_clusters.items():\n",
        "      if(id == l):\n",
        "        for ps in p:\n",
        "          for j in range(len(X)):\n",
        "            if((ps == X[j]).all()):\n",
        "              yp.append(y[j])\n",
        "  #print(yp)\n",
        "  #print(len(yp))\n",
        "\n",
        "    for id, p in final_clusters.items():\n",
        "      #print((p))\n",
        "      p=np.array(p)\n",
        "      #print(X[i])\n",
        "      if(id == l):\n",
        "        predictvalue = knn(X_test[i], v, p, yp)\n",
        "        #print(predictvalue)\n",
        "        #print(y_test[i])\n",
        "        if predictvalue == y_test[i]:\n",
        "                #print(predictvalue)\n",
        "                predictions += 1\n",
        "  #print(predictions)\n",
        "  print(f\"KNN for k value:{v}\")\n",
        "  print(f\"{predictions}/{X_test.shape[0]} correct predictions using all features\")\n",
        "  print(f'performance is : ', (predictions/X_test.shape[0]) * 100)\n",
        "  print()"
      ],
      "metadata": {
        "colab": {
          "base_uri": "https://localhost:8080/"
        },
        "id": "7zN-46HcjGnZ",
        "outputId": "d300eb92-ef3b-4916-8890-4f3e5db6e459"
      },
      "execution_count": 25,
      "outputs": [
        {
          "output_type": "stream",
          "name": "stdout",
          "text": [
            "KNN for k value:1\n",
            "49/62 correct predictions using all features\n",
            "performance is :  79.03225806451613\n",
            "\n",
            "KNN for k value:3\n",
            "48/62 correct predictions using all features\n",
            "performance is :  77.41935483870968\n",
            "\n",
            "KNN for k value:5\n",
            "50/62 correct predictions using all features\n",
            "performance is :  80.64516129032258\n",
            "\n"
          ]
        }
      ]
    },
    {
      "cell_type": "markdown",
      "source": [
        "For Linkage method: Single and Number of cluster :2"
      ],
      "metadata": {
        "id": "urgymZLN6AD5"
      }
    },
    {
      "cell_type": "code",
      "source": [
        "# k gives the value of number of clusters\n",
        "# L is the linkage method value\n",
        "# 0 - average\n",
        "# 1 --> single\n",
        "# 2--> complete\n",
        "# final_clusters gives the cluster and the points in each of the clusters\n",
        "# y_pred gives the label for the datapoint\n",
        "K = 2\n",
        "L = 1\n",
        "clusters = initial_clusters(X)\n",
        "linkage1 = distance_linkage(L)\n",
        "final_clusters= AgglomerativeHierarchicalClustering(clusters,K,linkage1)\n",
        "print(\" the labels for the datapoints: \")\n",
        "y_pred =prediction_function(final_clusters,X)\n",
        "#print(len(y_pred))\n",
        "y_pred=np.array(y_pred)\n",
        "y = (np.array(y)).astype(int)"
      ],
      "metadata": {
        "colab": {
          "base_uri": "https://localhost:8080/"
        },
        "outputId": "cae0034a-57f8-46e5-9c1b-ad46331888b6",
        "id": "rYwvQgDH3lZV"
      },
      "execution_count": 26,
      "outputs": [
        {
          "output_type": "stream",
          "name": "stdout",
          "text": [
            " the labels for the datapoints: \n",
            "[0, 0, 0, 0, 0, 0, 0, 0, 0, 0, 0, 0, 0, 0, 0, 0, 0, 0, 0, 0, 0, 0, 0, 0, 0, 0, 0, 0, 0, 0, 0, 0, 0, 0, 0, 0, 0, 0, 0, 0, 0, 0, 0, 0, 0, 0, 0, 0, 0, 0, 0, 0, 0, 0, 0, 0, 0, 0, 0, 0, 0, 0, 0, 0, 0, 0, 0, 0, 0, 0, 0, 0, 0, 0, 0, 0, 0, 0, 0, 0, 0, 0, 0, 0, 0, 0, 0, 0, 0, 0, 0, 0, 0, 0, 0, 0, 0, 0, 0, 0, 0, 0, 0, 0, 0, 0, 0, 0, 0, 0, 0, 0, 0, 0, 0, 0, 0, 0, 0, 0, 0, 0, 0, 0, 0, 0, 0, 0, 0, 0, 0, 0, 0, 0, 0, 0, 0, 0, 0, 0, 0, 0, 0, 0, 0, 0, 0, 0]\n",
            "Cluster: 0\n",
            "[array([12.26  , 13.6   ,  0.8333,  5.408 ,  2.833 ,  4.756 ,  5.36  ]), array([12.13  , 13.73  ,  0.8081,  5.394 ,  2.745 ,  4.825 ,  5.22  ]), array([12.44  , 13.59  ,  0.8462,  5.319 ,  2.897 ,  4.924 ,  5.27  ]), array([12.05  , 13.41  ,  0.8416,  5.267 ,  2.847 ,  4.988 ,  5.046 ]), array([12.55  , 13.57  ,  0.8558,  5.333 ,  2.968 ,  4.419 ,  5.176 ]), array([12.22  , 13.32  ,  0.8652,  5.224 ,  2.967 ,  5.469 ,  5.221 ]), array([12.38  , 13.44  ,  0.8609,  5.219 ,  2.989 ,  5.472 ,  5.045 ]), array([12.79  , 13.53  ,  0.8786,  5.224 ,  3.054 ,  5.483 ,  4.958 ]), array([11.82  , 13.4   ,  0.8274,  5.314 ,  2.777 ,  4.471 ,  5.178 ]), array([11.75  , 13.52  ,  0.8082,  5.444 ,  2.678 ,  4.378 ,  5.31  ]), array([12.02  , 13.33  ,  0.8503,  5.35  ,  2.81  ,  4.271 ,  5.308 ]), array([12.11  , 13.27  ,  0.8639,  5.236 ,  2.975 ,  4.132 ,  5.012 ]), array([11.35  , 13.12  ,  0.8291,  5.176 ,  2.668 ,  4.337 ,  5.132 ]), array([11.27  , 12.97  ,  0.8419,  5.088 ,  2.763 ,  4.309 ,  5.    ]), array([11.36  , 13.05  ,  0.8382,  5.175 ,  2.755 ,  4.048 ,  5.263 ]), array([11.27  , 12.86  ,  0.8563,  5.091 ,  2.804 ,  3.985 ,  5.001 ]), array([11.18  , 13.04  ,  0.8266,  5.22  ,  2.693 ,  3.332 ,  5.001 ]), array([11.24  , 13.    ,  0.8359,  5.09  ,  2.715 ,  3.521 ,  5.088 ]), array([11.34  , 12.87  ,  0.8596,  5.053 ,  2.849 ,  3.347 ,  5.003 ]), array([12.8  , 13.47 ,  0.886,  5.16 ,  3.126,  4.873,  4.914]), array([11.87  , 13.02  ,  0.8795,  5.132 ,  2.953 ,  3.597 ,  5.132 ]), array([12.54  , 13.67  ,  0.8425,  5.451 ,  2.879 ,  3.082 ,  5.491 ]), array([12.62  , 13.67  ,  0.8481,  5.41  ,  2.911 ,  3.306 ,  5.231 ]), array([13.02  , 13.76  ,  0.8641,  5.395 ,  3.026 ,  3.373 ,  4.825 ]), array([14.11  , 14.1   ,  0.8911,  5.42  ,  3.302 ,  2.7   ,  5.    ]), array([14.11 , 14.18 ,  0.882,  5.541,  3.221,  2.754,  5.038]), array([14.29 , 14.09 ,  0.905,  5.291,  3.337,  2.699,  4.825]), array([14.38  , 14.21  ,  0.8951,  5.386 ,  3.312 ,  2.462 ,  4.956 ]), array([14.46  , 14.35  ,  0.8818,  5.388 ,  3.377 ,  2.802 ,  5.044 ]), array([15.11  , 14.54  ,  0.8986,  5.579 ,  3.462 ,  3.128 ,  5.18  ]), array([14.99  , 14.56  ,  0.8883,  5.57  ,  3.377 ,  2.958 ,  5.175 ]), array([14.79  , 14.52  ,  0.8819,  5.545 ,  3.291 ,  2.704 ,  5.111 ]), array([13.78  , 14.06  ,  0.8759,  5.479 ,  3.156 ,  3.136 ,  4.872 ]), array([13.74  , 14.05  ,  0.8744,  5.482 ,  3.114 ,  2.932 ,  4.825 ]), array([13.45  , 14.02  ,  0.8604,  5.516 ,  3.065 ,  3.531 ,  5.097 ]), array([14.03  , 14.16  ,  0.8796,  5.438 ,  3.201 ,  1.717 ,  5.001 ]), array([13.8   , 14.04  ,  0.8794,  5.376 ,  3.155 ,  1.56  ,  4.961 ]), array([13.94  , 14.17  ,  0.8728,  5.585 ,  3.15  ,  2.124 ,  5.012 ]), array([13.84  , 13.94  ,  0.8955,  5.324 ,  3.379 ,  2.259 ,  4.805 ]), array([14.09  , 14.41  ,  0.8529,  5.717 ,  3.186 ,  3.92  ,  5.299 ]), array([14.43  , 14.4   ,  0.8751,  5.585 ,  3.272 ,  3.975 ,  5.144 ]), array([14.49  , 14.61  ,  0.8538,  5.715 ,  3.113 ,  4.116 ,  5.396 ]), array([14.69  , 14.49  ,  0.8799,  5.563 ,  3.259 ,  3.586 ,  5.219 ]), array([14.33  , 14.28  ,  0.8831,  5.504 ,  3.199 ,  3.328 ,  5.224 ]), array([14.59  , 14.28  ,  0.8993,  5.351 ,  3.333 ,  4.185 ,  4.781 ]), array([12.15  , 13.45  ,  0.8443,  5.417 ,  2.837 ,  3.638 ,  5.338 ]), array([15.49  , 14.94  ,  0.8724,  5.757 ,  3.371 ,  3.412 ,  5.228 ]), array([15.26 , 14.84 ,  0.871,  5.763,  3.312,  2.221,  5.22 ]), array([15.38  , 14.77  ,  0.8857,  5.662 ,  3.419 ,  1.999 ,  5.222 ]), array([15.05  , 14.68  ,  0.8779,  5.712 ,  3.328 ,  2.129 ,  5.36  ]), array([14.86  , 14.67  ,  0.8676,  5.678 ,  3.258 ,  2.129 ,  5.351 ]), array([15.03  , 14.77  ,  0.8658,  5.702 ,  3.212 ,  1.933 ,  5.439 ]), array([15.01  , 14.76  ,  0.8657,  5.789 ,  3.245 ,  1.791 ,  5.001 ]), array([15.69  , 14.75  ,  0.9058,  5.527 ,  3.514 ,  1.599 ,  5.046 ]), array([15.36  , 14.76  ,  0.8861,  5.701 ,  3.393 ,  1.367 ,  5.132 ]), array([15.88  , 14.9   ,  0.8988,  5.618 ,  3.507 ,  0.7651,  5.091 ]), array([16.19  , 15.16  ,  0.8849,  5.833 ,  3.421 ,  0.903 ,  5.307 ]), array([16.14  , 14.99  ,  0.9034,  5.658 ,  3.562 ,  1.355 ,  5.175 ]), array([14.88  , 14.57  ,  0.8811,  5.554 ,  3.333 ,  1.018 ,  4.956 ]), array([14.92  , 14.43  ,  0.9006,  5.384 ,  3.412 ,  1.142 ,  5.088 ]), array([15.99  , 14.89  ,  0.9064,  5.363 ,  3.582 ,  3.336 ,  5.144 ]), array([14.52  , 14.6   ,  0.8557,  5.741 ,  3.113 ,  1.481 ,  5.487 ]), array([11.14  , 12.79  ,  0.8558,  5.011 ,  2.794 ,  6.388 ,  5.049 ]), array([11.02  , 13.    ,  0.8189,  5.325 ,  2.701 ,  6.735 ,  5.163 ]), array([10.74  , 12.73  ,  0.8329,  5.145 ,  2.642 ,  4.702 ,  4.963 ]), array([10.82  , 12.83  ,  0.8256,  5.18  ,  2.63  ,  4.853 ,  5.089 ]), array([10.8  , 12.57 ,  0.859,  4.981,  2.821,  4.773,  5.063]), array([10.83  , 12.96  ,  0.8099,  5.278 ,  2.641 ,  5.182 ,  5.185 ]), array([10.93 , 12.8  ,  0.839,  5.046,  2.717,  5.398,  5.045]), array([11.4   , 13.08  ,  0.8375,  5.136 ,  2.763 ,  5.588 ,  5.089 ]), array([11.26  , 13.01  ,  0.8355,  5.186 ,  2.71  ,  5.335 ,  5.092 ]), array([11.48  , 13.05  ,  0.8473,  5.18  ,  2.758 ,  5.876 ,  5.002 ]), array([11.19  , 13.05  ,  0.8253,  5.25  ,  2.675 ,  5.813 ,  5.219 ]), array([11.21  , 13.13  ,  0.8167,  5.279 ,  2.687 ,  6.169 ,  5.275 ]), array([11.49  , 13.22  ,  0.8263,  5.304 ,  2.695 ,  5.388 ,  5.31  ]), array([10.59  , 12.41  ,  0.8648,  4.899 ,  2.787 ,  4.975 ,  4.794 ]), array([11.55  , 13.1   ,  0.8455,  5.167 ,  2.845 ,  6.715 ,  4.956 ]), array([13.37  , 13.78  ,  0.8849,  5.32  ,  3.128 ,  4.67  ,  5.091 ]), array([13.07 , 13.92 ,  0.848,  5.472,  2.994,  5.304,  5.395]), array([13.89 , 14.02 ,  0.888,  5.439,  3.199,  3.986,  4.738]), array([13.34 , 13.95 ,  0.862,  5.389,  3.074,  5.995,  5.307]), array([12.01  , 13.52  ,  0.8249,  5.405 ,  2.776 ,  6.992 ,  5.27  ]), array([12.08  , 13.23  ,  0.8664,  5.099 ,  2.936 ,  1.415 ,  4.961 ]), array([12.21  , 13.47  ,  0.8453,  5.357 ,  2.893 ,  1.661 ,  5.178 ]), array([12.11  , 13.47  ,  0.8392,  5.159 ,  3.032 ,  1.502 ,  4.519 ]), array([12.1   , 13.15  ,  0.8793,  5.105 ,  2.941 ,  2.201 ,  5.056 ]), array([11.43  , 13.13  ,  0.8335,  5.176 ,  2.719 ,  2.221 ,  5.132 ]), array([12.76  , 13.38  ,  0.8964,  5.073 ,  3.155 ,  2.828 ,  4.83  ]), array([12.67  , 13.32  ,  0.8977,  4.984 ,  3.135 ,  2.3   ,  4.745 ]), array([12.74  , 13.67  ,  0.8564,  5.395 ,  2.956 ,  2.504 ,  4.869 ]), array([16.63  , 15.46  ,  0.8747,  6.053 ,  3.465 ,  2.04  ,  5.877 ]), array([16.44 , 15.25 ,  0.888,  5.884,  3.505,  1.969,  5.533]), array([16.12 , 15.   ,  0.9  ,  5.709,  3.485,  2.27 ,  5.443]), array([16.2   , 15.27  ,  0.8734,  5.826 ,  3.464 ,  2.823 ,  5.527 ]), array([11.23  , 12.82  ,  0.8594,  5.089 ,  2.821 ,  7.524 ,  4.957 ]), array([17.08  , 15.38  ,  0.9079,  5.832 ,  3.683 ,  2.956 ,  5.484 ]), array([17.12  , 15.55  ,  0.8892,  5.85  ,  3.566 ,  2.858 ,  5.746 ]), array([15.26  , 14.85  ,  0.8696,  5.714 ,  3.242 ,  4.543 ,  5.314 ]), array([13.99  , 13.83  ,  0.9183,  5.119 ,  3.383 ,  5.234 ,  4.781 ]), array([13.16  , 13.82  ,  0.8662,  5.454 ,  2.975 ,  0.8551,  5.056 ]), array([13.32  , 13.94  ,  0.8613,  5.541 ,  3.073 ,  7.035 ,  5.44  ]), array([16.41  , 15.25  ,  0.8866,  5.718 ,  3.525 ,  4.217 ,  5.618 ]), array([16.17  , 15.38  ,  0.8588,  5.762 ,  3.387 ,  4.286 ,  5.703 ]), array([16.82  , 15.51  ,  0.8786,  6.017 ,  3.486 ,  4.004 ,  5.841 ]), array([17.32  , 15.91  ,  0.8599,  6.064 ,  3.403 ,  3.824 ,  5.922 ]), array([17.63 , 15.86 ,  0.88 ,  6.033,  3.573,  3.747,  5.929]), array([18.14  , 16.12  ,  0.8772,  6.059 ,  3.563 ,  3.619 ,  6.011 ]), array([19.18  , 16.63  ,  0.8717,  6.369 ,  3.681 ,  3.357 ,  6.229 ]), array([18.95  , 16.42  ,  0.8829,  6.248 ,  3.755 ,  3.368 ,  6.148 ]), array([19.15 , 16.45 ,  0.889,  6.245,  3.815,  3.084,  6.185]), array([18.89  , 16.23  ,  0.9008,  6.227 ,  3.769 ,  3.639 ,  5.966 ]), array([19.51 , 16.71 ,  0.878,  6.366,  3.801,  2.962,  6.185]), array([18.83  , 16.29  ,  0.8917,  6.037 ,  3.786 ,  2.553 ,  5.879 ]), array([18.85  , 16.17  ,  0.9056,  6.152 ,  3.806 ,  2.843 ,  6.2   ]), array([19.38  , 16.72  ,  0.8716,  6.303 ,  3.791 ,  3.678 ,  5.965 ]), array([18.72 , 16.34 ,  0.881,  6.219,  3.684,  2.188,  6.097]), array([19.06  , 16.45  ,  0.8854,  6.416 ,  3.719 ,  2.248 ,  6.163 ]), array([19.13  , 16.31  ,  0.9035,  6.183 ,  3.902 ,  2.109 ,  5.924 ]), array([18.45  , 16.12  ,  0.8921,  6.107 ,  3.769 ,  2.235 ,  5.794 ]), array([18.27 , 16.09 ,  0.887,  6.173,  3.651,  2.443,  6.197]), array([18.98 , 16.66 ,  0.859,  6.549,  3.67 ,  3.691,  6.498]), array([18.88  , 16.26  ,  0.8969,  6.084 ,  3.764 ,  1.649 ,  6.109 ]), array([18.55  , 16.22  ,  0.8865,  6.153 ,  3.674 ,  1.738 ,  5.894 ]), array([17.99  , 15.86  ,  0.8992,  5.89  ,  3.694 ,  2.068 ,  5.837 ]), array([17.98  , 15.85  ,  0.8993,  5.979 ,  3.687 ,  2.257 ,  5.919 ]), array([18.96  , 16.2   ,  0.9077,  6.051 ,  3.897 ,  4.334 ,  5.75  ]), array([18.75  , 16.18  ,  0.8999,  6.111 ,  3.869 ,  4.188 ,  5.992 ]), array([18.65  , 16.41  ,  0.8698,  6.285 ,  3.594 ,  4.391 ,  6.102 ]), array([18.43  , 15.97  ,  0.9077,  5.98  ,  3.771 ,  2.984 ,  5.905 ]), array([19.94  , 16.92  ,  0.8752,  6.675 ,  3.763 ,  3.252 ,  6.55  ]), array([20.03  , 16.9   ,  0.8811,  6.493 ,  3.857 ,  3.063 ,  6.32  ]), array([19.46  , 16.5   ,  0.8985,  6.113 ,  3.892 ,  4.308 ,  6.009 ]), array([18.94 , 16.49 ,  0.875,  6.445,  3.639,  5.064,  6.362]), array([18.72  , 16.19  ,  0.8977,  6.006 ,  3.857 ,  5.324 ,  5.879 ]), array([16.77  , 15.62  ,  0.8638,  5.927 ,  3.438 ,  4.92  ,  5.795 ]), array([16.53  , 15.34  ,  0.8823,  5.875 ,  3.467 ,  5.532 ,  5.88  ]), array([20.1   , 16.99  ,  0.8746,  6.581 ,  3.785 ,  1.955 ,  6.449 ]), array([20.16  , 17.03  ,  0.8735,  6.513 ,  3.773 ,  1.91  ,  6.185 ]), array([19.57  , 16.74  ,  0.8779,  6.384 ,  3.772 ,  1.472 ,  6.273 ]), array([17.55  , 15.66  ,  0.8991,  5.791 ,  3.69  ,  5.366 ,  5.661 ]), array([15.78  , 14.91  ,  0.8923,  5.674 ,  3.434 ,  5.593 ,  5.136 ]), array([20.2   , 16.89  ,  0.8894,  6.285 ,  3.864 ,  5.173 ,  6.187 ]), array([20.24  , 16.91  ,  0.8897,  6.315 ,  3.962 ,  5.901 ,  6.188 ]), array([20.71  , 17.23  ,  0.8763,  6.579 ,  3.814 ,  4.451 ,  6.451 ]), array([20.97  , 17.25  ,  0.8859,  6.563 ,  3.991 ,  4.677 ,  6.316 ]), array([20.88  , 17.05  ,  0.9031,  6.45  ,  4.032 ,  5.016 ,  6.321 ]), array([21.18  , 17.21  ,  0.8989,  6.573 ,  4.033 ,  5.78  ,  6.231 ])]\n",
            "    [12.26   13.6     0.8333  5.408   2.833   4.756   5.36  ]\n",
            "    [12.13   13.73    0.8081  5.394   2.745   4.825   5.22  ]\n",
            "    [12.44   13.59    0.8462  5.319   2.897   4.924   5.27  ]\n",
            "    [12.05   13.41    0.8416  5.267   2.847   4.988   5.046 ]\n",
            "    [12.55   13.57    0.8558  5.333   2.968   4.419   5.176 ]\n",
            "    [12.22   13.32    0.8652  5.224   2.967   5.469   5.221 ]\n",
            "    [12.38   13.44    0.8609  5.219   2.989   5.472   5.045 ]\n",
            "    [12.79   13.53    0.8786  5.224   3.054   5.483   4.958 ]\n",
            "    [11.82   13.4     0.8274  5.314   2.777   4.471   5.178 ]\n",
            "    [11.75   13.52    0.8082  5.444   2.678   4.378   5.31  ]\n",
            "    [12.02   13.33    0.8503  5.35    2.81    4.271   5.308 ]\n",
            "    [12.11   13.27    0.8639  5.236   2.975   4.132   5.012 ]\n",
            "    [11.35   13.12    0.8291  5.176   2.668   4.337   5.132 ]\n",
            "    [11.27   12.97    0.8419  5.088   2.763   4.309   5.    ]\n",
            "    [11.36   13.05    0.8382  5.175   2.755   4.048   5.263 ]\n",
            "    [11.27   12.86    0.8563  5.091   2.804   3.985   5.001 ]\n",
            "    [11.18   13.04    0.8266  5.22    2.693   3.332   5.001 ]\n",
            "    [11.24   13.      0.8359  5.09    2.715   3.521   5.088 ]\n",
            "    [11.34   12.87    0.8596  5.053   2.849   3.347   5.003 ]\n",
            "    [12.8   13.47   0.886  5.16   3.126  4.873  4.914]\n",
            "    [11.87   13.02    0.8795  5.132   2.953   3.597   5.132 ]\n",
            "    [12.54   13.67    0.8425  5.451   2.879   3.082   5.491 ]\n",
            "    [12.62   13.67    0.8481  5.41    2.911   3.306   5.231 ]\n",
            "    [13.02   13.76    0.8641  5.395   3.026   3.373   4.825 ]\n",
            "    [14.11   14.1     0.8911  5.42    3.302   2.7     5.    ]\n",
            "    [14.11  14.18   0.882  5.541  3.221  2.754  5.038]\n",
            "    [14.29  14.09   0.905  5.291  3.337  2.699  4.825]\n",
            "    [14.38   14.21    0.8951  5.386   3.312   2.462   4.956 ]\n",
            "    [14.46   14.35    0.8818  5.388   3.377   2.802   5.044 ]\n",
            "    [15.11   14.54    0.8986  5.579   3.462   3.128   5.18  ]\n",
            "    [14.99   14.56    0.8883  5.57    3.377   2.958   5.175 ]\n",
            "    [14.79   14.52    0.8819  5.545   3.291   2.704   5.111 ]\n",
            "    [13.78   14.06    0.8759  5.479   3.156   3.136   4.872 ]\n",
            "    [13.74   14.05    0.8744  5.482   3.114   2.932   4.825 ]\n",
            "    [13.45   14.02    0.8604  5.516   3.065   3.531   5.097 ]\n",
            "    [14.03   14.16    0.8796  5.438   3.201   1.717   5.001 ]\n",
            "    [13.8    14.04    0.8794  5.376   3.155   1.56    4.961 ]\n",
            "    [13.94   14.17    0.8728  5.585   3.15    2.124   5.012 ]\n",
            "    [13.84   13.94    0.8955  5.324   3.379   2.259   4.805 ]\n",
            "    [14.09   14.41    0.8529  5.717   3.186   3.92    5.299 ]\n",
            "    [14.43   14.4     0.8751  5.585   3.272   3.975   5.144 ]\n",
            "    [14.49   14.61    0.8538  5.715   3.113   4.116   5.396 ]\n",
            "    [14.69   14.49    0.8799  5.563   3.259   3.586   5.219 ]\n",
            "    [14.33   14.28    0.8831  5.504   3.199   3.328   5.224 ]\n",
            "    [14.59   14.28    0.8993  5.351   3.333   4.185   4.781 ]\n",
            "    [12.15   13.45    0.8443  5.417   2.837   3.638   5.338 ]\n",
            "    [15.49   14.94    0.8724  5.757   3.371   3.412   5.228 ]\n",
            "    [15.26  14.84   0.871  5.763  3.312  2.221  5.22 ]\n",
            "    [15.38   14.77    0.8857  5.662   3.419   1.999   5.222 ]\n",
            "    [15.05   14.68    0.8779  5.712   3.328   2.129   5.36  ]\n",
            "    [14.86   14.67    0.8676  5.678   3.258   2.129   5.351 ]\n",
            "    [15.03   14.77    0.8658  5.702   3.212   1.933   5.439 ]\n",
            "    [15.01   14.76    0.8657  5.789   3.245   1.791   5.001 ]\n",
            "    [15.69   14.75    0.9058  5.527   3.514   1.599   5.046 ]\n",
            "    [15.36   14.76    0.8861  5.701   3.393   1.367   5.132 ]\n",
            "    [15.88   14.9     0.8988  5.618   3.507   0.7651  5.091 ]\n",
            "    [16.19   15.16    0.8849  5.833   3.421   0.903   5.307 ]\n",
            "    [16.14   14.99    0.9034  5.658   3.562   1.355   5.175 ]\n",
            "    [14.88   14.57    0.8811  5.554   3.333   1.018   4.956 ]\n",
            "    [14.92   14.43    0.9006  5.384   3.412   1.142   5.088 ]\n",
            "    [15.99   14.89    0.9064  5.363   3.582   3.336   5.144 ]\n",
            "    [14.52   14.6     0.8557  5.741   3.113   1.481   5.487 ]\n",
            "    [11.14   12.79    0.8558  5.011   2.794   6.388   5.049 ]\n",
            "    [11.02   13.      0.8189  5.325   2.701   6.735   5.163 ]\n",
            "    [10.74   12.73    0.8329  5.145   2.642   4.702   4.963 ]\n",
            "    [10.82   12.83    0.8256  5.18    2.63    4.853   5.089 ]\n",
            "    [10.8   12.57   0.859  4.981  2.821  4.773  5.063]\n",
            "    [10.83   12.96    0.8099  5.278   2.641   5.182   5.185 ]\n",
            "    [10.93  12.8    0.839  5.046  2.717  5.398  5.045]\n",
            "    [11.4    13.08    0.8375  5.136   2.763   5.588   5.089 ]\n",
            "    [11.26   13.01    0.8355  5.186   2.71    5.335   5.092 ]\n",
            "    [11.48   13.05    0.8473  5.18    2.758   5.876   5.002 ]\n",
            "    [11.19   13.05    0.8253  5.25    2.675   5.813   5.219 ]\n",
            "    [11.21   13.13    0.8167  5.279   2.687   6.169   5.275 ]\n",
            "    [11.49   13.22    0.8263  5.304   2.695   5.388   5.31  ]\n",
            "    [10.59   12.41    0.8648  4.899   2.787   4.975   4.794 ]\n",
            "    [11.55   13.1     0.8455  5.167   2.845   6.715   4.956 ]\n",
            "    [13.37   13.78    0.8849  5.32    3.128   4.67    5.091 ]\n",
            "    [13.07  13.92   0.848  5.472  2.994  5.304  5.395]\n",
            "    [13.89  14.02   0.888  5.439  3.199  3.986  4.738]\n",
            "    [13.34  13.95   0.862  5.389  3.074  5.995  5.307]\n",
            "    [12.01   13.52    0.8249  5.405   2.776   6.992   5.27  ]\n",
            "    [12.08   13.23    0.8664  5.099   2.936   1.415   4.961 ]\n",
            "    [12.21   13.47    0.8453  5.357   2.893   1.661   5.178 ]\n",
            "    [12.11   13.47    0.8392  5.159   3.032   1.502   4.519 ]\n",
            "    [12.1    13.15    0.8793  5.105   2.941   2.201   5.056 ]\n",
            "    [11.43   13.13    0.8335  5.176   2.719   2.221   5.132 ]\n",
            "    [12.76   13.38    0.8964  5.073   3.155   2.828   4.83  ]\n",
            "    [12.67   13.32    0.8977  4.984   3.135   2.3     4.745 ]\n",
            "    [12.74   13.67    0.8564  5.395   2.956   2.504   4.869 ]\n",
            "    [16.63   15.46    0.8747  6.053   3.465   2.04    5.877 ]\n",
            "    [16.44  15.25   0.888  5.884  3.505  1.969  5.533]\n",
            "    [16.12  15.     0.9    5.709  3.485  2.27   5.443]\n",
            "    [16.2    15.27    0.8734  5.826   3.464   2.823   5.527 ]\n",
            "    [11.23   12.82    0.8594  5.089   2.821   7.524   4.957 ]\n",
            "    [17.08   15.38    0.9079  5.832   3.683   2.956   5.484 ]\n",
            "    [17.12   15.55    0.8892  5.85    3.566   2.858   5.746 ]\n",
            "    [15.26   14.85    0.8696  5.714   3.242   4.543   5.314 ]\n",
            "    [13.99   13.83    0.9183  5.119   3.383   5.234   4.781 ]\n",
            "    [13.16   13.82    0.8662  5.454   2.975   0.8551  5.056 ]\n",
            "    [13.32   13.94    0.8613  5.541   3.073   7.035   5.44  ]\n",
            "    [16.41   15.25    0.8866  5.718   3.525   4.217   5.618 ]\n",
            "    [16.17   15.38    0.8588  5.762   3.387   4.286   5.703 ]\n",
            "    [16.82   15.51    0.8786  6.017   3.486   4.004   5.841 ]\n",
            "    [17.32   15.91    0.8599  6.064   3.403   3.824   5.922 ]\n",
            "    [17.63  15.86   0.88   6.033  3.573  3.747  5.929]\n",
            "    [18.14   16.12    0.8772  6.059   3.563   3.619   6.011 ]\n",
            "    [19.18   16.63    0.8717  6.369   3.681   3.357   6.229 ]\n",
            "    [18.95   16.42    0.8829  6.248   3.755   3.368   6.148 ]\n",
            "    [19.15  16.45   0.889  6.245  3.815  3.084  6.185]\n",
            "    [18.89   16.23    0.9008  6.227   3.769   3.639   5.966 ]\n",
            "    [19.51  16.71   0.878  6.366  3.801  2.962  6.185]\n",
            "    [18.83   16.29    0.8917  6.037   3.786   2.553   5.879 ]\n",
            "    [18.85   16.17    0.9056  6.152   3.806   2.843   6.2   ]\n",
            "    [19.38   16.72    0.8716  6.303   3.791   3.678   5.965 ]\n",
            "    [18.72  16.34   0.881  6.219  3.684  2.188  6.097]\n",
            "    [19.06   16.45    0.8854  6.416   3.719   2.248   6.163 ]\n",
            "    [19.13   16.31    0.9035  6.183   3.902   2.109   5.924 ]\n",
            "    [18.45   16.12    0.8921  6.107   3.769   2.235   5.794 ]\n",
            "    [18.27  16.09   0.887  6.173  3.651  2.443  6.197]\n",
            "    [18.98  16.66   0.859  6.549  3.67   3.691  6.498]\n",
            "    [18.88   16.26    0.8969  6.084   3.764   1.649   6.109 ]\n",
            "    [18.55   16.22    0.8865  6.153   3.674   1.738   5.894 ]\n",
            "    [17.99   15.86    0.8992  5.89    3.694   2.068   5.837 ]\n",
            "    [17.98   15.85    0.8993  5.979   3.687   2.257   5.919 ]\n",
            "    [18.96   16.2     0.9077  6.051   3.897   4.334   5.75  ]\n",
            "    [18.75   16.18    0.8999  6.111   3.869   4.188   5.992 ]\n",
            "    [18.65   16.41    0.8698  6.285   3.594   4.391   6.102 ]\n",
            "    [18.43   15.97    0.9077  5.98    3.771   2.984   5.905 ]\n",
            "    [19.94   16.92    0.8752  6.675   3.763   3.252   6.55  ]\n",
            "    [20.03   16.9     0.8811  6.493   3.857   3.063   6.32  ]\n",
            "    [19.46   16.5     0.8985  6.113   3.892   4.308   6.009 ]\n",
            "    [18.94  16.49   0.875  6.445  3.639  5.064  6.362]\n",
            "    [18.72   16.19    0.8977  6.006   3.857   5.324   5.879 ]\n",
            "    [16.77   15.62    0.8638  5.927   3.438   4.92    5.795 ]\n",
            "    [16.53   15.34    0.8823  5.875   3.467   5.532   5.88  ]\n",
            "    [20.1    16.99    0.8746  6.581   3.785   1.955   6.449 ]\n",
            "    [20.16   17.03    0.8735  6.513   3.773   1.91    6.185 ]\n",
            "    [19.57   16.74    0.8779  6.384   3.772   1.472   6.273 ]\n",
            "    [17.55   15.66    0.8991  5.791   3.69    5.366   5.661 ]\n",
            "    [15.78   14.91    0.8923  5.674   3.434   5.593   5.136 ]\n",
            "    [20.2    16.89    0.8894  6.285   3.864   5.173   6.187 ]\n",
            "    [20.24   16.91    0.8897  6.315   3.962   5.901   6.188 ]\n",
            "    [20.71   17.23    0.8763  6.579   3.814   4.451   6.451 ]\n",
            "    [20.97   17.25    0.8859  6.563   3.991   4.677   6.316 ]\n",
            "    [20.88   17.05    0.9031  6.45    4.032   5.016   6.321 ]\n",
            "    [21.18   17.21    0.8989  6.573   4.033   5.78    6.231 ]\n",
            "Cluster: 1\n",
            "[array([19.14  , 16.61  ,  0.8722,  6.259 ,  3.737 ,  6.682 ,  6.053 ])]\n",
            "    [19.14   16.61    0.8722  6.259   3.737   6.682   6.053 ]\n",
            "[1, 1, 1, 1, 1, 1, 1, 1, 1, 1, 1, 1, 1, 1, 1, 1, 1, 1, 1, 1, 1, 1, 1, 1, 1, 1, 1, 1, 1, 1, 1, 1, 1, 1, 1, 1, 1, 1, 1, 1, 1, 1, 1, 1, 1, 1, 1, 1, 1, 1, 1, 1, 1, 1, 1, 1, 1, 1, 1, 1, 1, 1, 1, 1, 1, 1, 1, 1, 1, 1, 1, 1, 1, 1, 1, 1, 1, 1, 1, 1, 1, 2, 1, 1, 1, 1, 1, 1, 1, 1, 1, 1, 1, 1, 1, 1, 1, 1, 1, 1, 1, 1, 1, 1, 1, 1, 1, 1, 1, 1, 1, 1, 1, 1, 1, 1, 1, 1, 1, 1, 1, 1, 1, 1, 1, 1, 1, 1, 1, 1, 1, 1, 1, 1, 1, 1, 1, 1, 1, 1, 1, 1, 1, 1, 1, 1, 1, 1]\n"
          ]
        }
      ]
    },
    {
      "cell_type": "code",
      "source": [
        "centroids= new_centroids(K,X,final_clusters)\n",
        "print(centroids)"
      ],
      "metadata": {
        "colab": {
          "base_uri": "https://localhost:8080/"
        },
        "outputId": "aa18c355-2fa3-481b-b9fd-e425990f4163",
        "id": "kt_XbalP443c"
      },
      "execution_count": 27,
      "outputs": [
        {
          "output_type": "stream",
          "name": "stdout",
          "text": [
            "Cluster: 1\n",
            "Cluster: 1\n",
            "[[15.00789116 14.63204082  0.87100748  5.6477551   3.27739456  3.6158449\n",
            "   5.41791156]\n",
            " [19.14       16.61        0.8722      6.259       3.737       6.682\n",
            "   6.053     ]]\n"
          ]
        }
      ]
    },
    {
      "cell_type": "code",
      "source": [
        "k=[1,3,5]\n",
        "y_test = (np.array(y_test)).astype(int)\n",
        "for v in k:\n",
        "  predictions=0\n",
        "  for i in range(len(X_test)):\n",
        "    #print(X[i])\n",
        "    distance = euclidean_distance(K,X_test[i], centroids)\n",
        "    l = minimum_distance(distance)\n",
        "    #print(l)\n",
        "    #print(K)\n",
        "    yp=[]\n",
        "    for id, p in final_clusters.items():\n",
        "      if(id == l):\n",
        "        for ps in p:\n",
        "          for j in range(len(X)):\n",
        "            if((ps == X[j]).all()):\n",
        "              yp.append(y[j])\n",
        "  #print(yp)\n",
        "  #print(len(yp))\n",
        "\n",
        "    for id, p in final_clusters.items():\n",
        "      #print((p))\n",
        "      p=np.array(p)\n",
        "      #print(X[i])\n",
        "      if( id == l):\n",
        "        predictvalue = knn(X_test[i], v, p, yp)\n",
        "        #print(predictvalue)\n",
        "        #print(y_test[i])\n",
        "        if predictvalue == y_test[i]:\n",
        "                #print(predictvalue)\n",
        "                predictions += 1\n",
        "  #print(predictions)\n",
        "  print(f\"KNN for k value:{v}\")\n",
        "  print(f\"{predictions}/{X_test.shape[0]} correct predictions using all features\")\n",
        "  print(f'performance is : ', (predictions/X_test.shape[0]) * 100)\n",
        "  print()"
      ],
      "metadata": {
        "colab": {
          "base_uri": "https://localhost:8080/"
        },
        "outputId": "560fb784-8e1c-4495-984c-4cffc1bc83f1",
        "id": "pYjLs4zx37mc"
      },
      "execution_count": 28,
      "outputs": [
        {
          "output_type": "stream",
          "name": "stdout",
          "text": [
            "KNN for k value:1\n",
            "49/62 correct predictions using all features\n",
            "performance is :  79.03225806451613\n",
            "\n",
            "KNN for k value:3\n",
            "48/62 correct predictions using all features\n",
            "performance is :  77.41935483870968\n",
            "\n",
            "KNN for k value:5\n",
            "51/62 correct predictions using all features\n",
            "performance is :  82.25806451612904\n",
            "\n"
          ]
        }
      ]
    },
    {
      "cell_type": "markdown",
      "source": [
        "for linkage method: Complete and number of cluster:4"
      ],
      "metadata": {
        "id": "GrkItL09522V"
      }
    },
    {
      "cell_type": "code",
      "source": [
        "# k gives the value of number of clusters\n",
        "# L is the linkage method value\n",
        "# 0- average\n",
        "# 1 --> single\n",
        "# 2 --> complete\n",
        "# final_clusters gives the cluster and the points in each of the clusters\n",
        "# y_pred gives the label for the datapoint\n",
        "K = 4\n",
        "L = 2\n",
        "clusters = initial_clusters(X)\n",
        "linkage1 = distance_linkage(L)\n",
        "final_clusters= AgglomerativeHierarchicalClustering(clusters,K,linkage1)\n",
        "print(\" the labels for the datapoints: \")\n",
        "y_pred =prediction_function(final_clusters,X)\n",
        "#print(len(y_pred))\n",
        "y_pred=np.array(y_pred)\n",
        "y = (np.array(y)).astype(int)"
      ],
      "metadata": {
        "colab": {
          "base_uri": "https://localhost:8080/"
        },
        "outputId": "9b29dafa-1389-4f68-f1c3-bdad812fe92b",
        "id": "FJ_y1cib41dA"
      },
      "execution_count": 29,
      "outputs": [
        {
          "output_type": "stream",
          "name": "stdout",
          "text": [
            " the labels for the datapoints: \n",
            "[0, 0, 0, 0, 0, 0, 0, 0, 0, 0, 0, 0, 0, 0, 0, 0, 0, 0, 0, 0, 0, 0, 0, 0, 0, 0, 0, 0, 0, 0, 0, 0, 0, 0, 0, 0, 0, 0, 0, 0, 0, 0, 0, 0, 0, 0, 0, 0, 0, 0, 0, 0, 0, 0, 0, 0, 0, 0, 0, 0, 0, 0, 0, 0, 0, 0, 0, 0, 0, 0, 0, 0, 0, 0, 0, 0, 0, 0, 0, 0, 0, 0, 0, 0, 0, 0, 0, 0, 0, 0, 0, 0, 0, 0, 0, 0, 0, 0, 0, 0, 0, 0, 0, 0, 0, 0, 0, 0, 0, 0, 0, 0, 0, 0, 0, 0, 0, 0, 0, 0, 0, 0, 0, 0, 0, 0, 0, 0, 0, 0, 0, 0, 0, 0, 0, 0, 0, 0, 0, 0, 0, 0, 0, 0, 0, 0, 0, 0]\n",
            "Cluster: 0\n",
            "[array([14.88  , 14.57  ,  0.8811,  5.554 ,  3.333 ,  1.018 ,  4.956 ]), array([14.92  , 14.43  ,  0.9006,  5.384 ,  3.412 ,  1.142 ,  5.088 ]), array([14.52  , 14.6   ,  0.8557,  5.741 ,  3.113 ,  1.481 ,  5.487 ]), array([15.05  , 14.68  ,  0.8779,  5.712 ,  3.328 ,  2.129 ,  5.36  ]), array([14.86  , 14.67  ,  0.8676,  5.678 ,  3.258 ,  2.129 ,  5.351 ]), array([15.03  , 14.77  ,  0.8658,  5.702 ,  3.212 ,  1.933 ,  5.439 ]), array([15.01  , 14.76  ,  0.8657,  5.789 ,  3.245 ,  1.791 ,  5.001 ]), array([15.26 , 14.84 ,  0.871,  5.763,  3.312,  2.221,  5.22 ]), array([15.38  , 14.77  ,  0.8857,  5.662 ,  3.419 ,  1.999 ,  5.222 ]), array([15.88  , 14.9   ,  0.8988,  5.618 ,  3.507 ,  0.7651,  5.091 ]), array([16.19  , 15.16  ,  0.8849,  5.833 ,  3.421 ,  0.903 ,  5.307 ]), array([16.14  , 14.99  ,  0.9034,  5.658 ,  3.562 ,  1.355 ,  5.175 ]), array([15.69  , 14.75  ,  0.9058,  5.527 ,  3.514 ,  1.599 ,  5.046 ]), array([15.36  , 14.76  ,  0.8861,  5.701 ,  3.393 ,  1.367 ,  5.132 ]), array([16.12 , 15.   ,  0.9  ,  5.709,  3.485,  2.27 ,  5.443]), array([16.2   , 15.27  ,  0.8734,  5.826 ,  3.464 ,  2.823 ,  5.527 ]), array([16.63  , 15.46  ,  0.8747,  6.053 ,  3.465 ,  2.04  ,  5.877 ]), array([16.44 , 15.25 ,  0.888,  5.884,  3.505,  1.969,  5.533]), array([17.08  , 15.38  ,  0.9079,  5.832 ,  3.683 ,  2.956 ,  5.484 ]), array([17.12  , 15.55  ,  0.8892,  5.85  ,  3.566 ,  2.858 ,  5.746 ]), array([16.41  , 15.25  ,  0.8866,  5.718 ,  3.525 ,  4.217 ,  5.618 ]), array([16.17  , 15.38  ,  0.8588,  5.762 ,  3.387 ,  4.286 ,  5.703 ]), array([16.82  , 15.51  ,  0.8786,  6.017 ,  3.486 ,  4.004 ,  5.841 ]), array([15.49  , 14.94  ,  0.8724,  5.757 ,  3.371 ,  3.412 ,  5.228 ]), array([15.99  , 14.89  ,  0.9064,  5.363 ,  3.582 ,  3.336 ,  5.144 ]), array([15.26  , 14.85  ,  0.8696,  5.714 ,  3.242 ,  4.543 ,  5.314 ]), array([15.78  , 14.91  ,  0.8923,  5.674 ,  3.434 ,  5.593 ,  5.136 ]), array([16.77  , 15.62  ,  0.8638,  5.927 ,  3.438 ,  4.92  ,  5.795 ]), array([16.53  , 15.34  ,  0.8823,  5.875 ,  3.467 ,  5.532 ,  5.88  ]), array([17.55  , 15.66  ,  0.8991,  5.791 ,  3.69  ,  5.366 ,  5.661 ])]\n",
            "    [14.88   14.57    0.8811  5.554   3.333   1.018   4.956 ]\n",
            "    [14.92   14.43    0.9006  5.384   3.412   1.142   5.088 ]\n",
            "    [14.52   14.6     0.8557  5.741   3.113   1.481   5.487 ]\n",
            "    [15.05   14.68    0.8779  5.712   3.328   2.129   5.36  ]\n",
            "    [14.86   14.67    0.8676  5.678   3.258   2.129   5.351 ]\n",
            "    [15.03   14.77    0.8658  5.702   3.212   1.933   5.439 ]\n",
            "    [15.01   14.76    0.8657  5.789   3.245   1.791   5.001 ]\n",
            "    [15.26  14.84   0.871  5.763  3.312  2.221  5.22 ]\n",
            "    [15.38   14.77    0.8857  5.662   3.419   1.999   5.222 ]\n",
            "    [15.88   14.9     0.8988  5.618   3.507   0.7651  5.091 ]\n",
            "    [16.19   15.16    0.8849  5.833   3.421   0.903   5.307 ]\n",
            "    [16.14   14.99    0.9034  5.658   3.562   1.355   5.175 ]\n",
            "    [15.69   14.75    0.9058  5.527   3.514   1.599   5.046 ]\n",
            "    [15.36   14.76    0.8861  5.701   3.393   1.367   5.132 ]\n",
            "    [16.12  15.     0.9    5.709  3.485  2.27   5.443]\n",
            "    [16.2    15.27    0.8734  5.826   3.464   2.823   5.527 ]\n",
            "    [16.63   15.46    0.8747  6.053   3.465   2.04    5.877 ]\n",
            "    [16.44  15.25   0.888  5.884  3.505  1.969  5.533]\n",
            "    [17.08   15.38    0.9079  5.832   3.683   2.956   5.484 ]\n",
            "    [17.12   15.55    0.8892  5.85    3.566   2.858   5.746 ]\n",
            "    [16.41   15.25    0.8866  5.718   3.525   4.217   5.618 ]\n",
            "    [16.17   15.38    0.8588  5.762   3.387   4.286   5.703 ]\n",
            "    [16.82   15.51    0.8786  6.017   3.486   4.004   5.841 ]\n",
            "    [15.49   14.94    0.8724  5.757   3.371   3.412   5.228 ]\n",
            "    [15.99   14.89    0.9064  5.363   3.582   3.336   5.144 ]\n",
            "    [15.26   14.85    0.8696  5.714   3.242   4.543   5.314 ]\n",
            "    [15.78   14.91    0.8923  5.674   3.434   5.593   5.136 ]\n",
            "    [16.77   15.62    0.8638  5.927   3.438   4.92    5.795 ]\n",
            "    [16.53   15.34    0.8823  5.875   3.467   5.532   5.88  ]\n",
            "    [17.55   15.66    0.8991  5.791   3.69    5.366   5.661 ]\n",
            "Cluster: 1\n",
            "[array([20.1   , 16.99  ,  0.8746,  6.581 ,  3.785 ,  1.955 ,  6.449 ]), array([20.16  , 17.03  ,  0.8735,  6.513 ,  3.773 ,  1.91  ,  6.185 ]), array([19.57  , 16.74  ,  0.8779,  6.384 ,  3.772 ,  1.472 ,  6.273 ]), array([19.94  , 16.92  ,  0.8752,  6.675 ,  3.763 ,  3.252 ,  6.55  ]), array([20.03  , 16.9   ,  0.8811,  6.493 ,  3.857 ,  3.063 ,  6.32  ]), array([19.51 , 16.71 ,  0.878,  6.366,  3.801,  2.962,  6.185]), array([18.27 , 16.09 ,  0.887,  6.173,  3.651,  2.443,  6.197]), array([18.45  , 16.12  ,  0.8921,  6.107 ,  3.769 ,  2.235 ,  5.794 ]), array([17.99  , 15.86  ,  0.8992,  5.89  ,  3.694 ,  2.068 ,  5.837 ]), array([17.98  , 15.85  ,  0.8993,  5.979 ,  3.687 ,  2.257 ,  5.919 ]), array([18.83  , 16.29  ,  0.8917,  6.037 ,  3.786 ,  2.553 ,  5.879 ]), array([18.85  , 16.17  ,  0.9056,  6.152 ,  3.806 ,  2.843 ,  6.2   ]), array([18.43  , 15.97  ,  0.9077,  5.98  ,  3.771 ,  2.984 ,  5.905 ]), array([18.72 , 16.34 ,  0.881,  6.219,  3.684,  2.188,  6.097]), array([19.06  , 16.45  ,  0.8854,  6.416 ,  3.719 ,  2.248 ,  6.163 ]), array([19.13  , 16.31  ,  0.9035,  6.183 ,  3.902 ,  2.109 ,  5.924 ]), array([18.88  , 16.26  ,  0.8969,  6.084 ,  3.764 ,  1.649 ,  6.109 ]), array([18.55  , 16.22  ,  0.8865,  6.153 ,  3.674 ,  1.738 ,  5.894 ]), array([19.46  , 16.5   ,  0.8985,  6.113 ,  3.892 ,  4.308 ,  6.009 ]), array([19.38  , 16.72  ,  0.8716,  6.303 ,  3.791 ,  3.678 ,  5.965 ]), array([18.96  , 16.2   ,  0.9077,  6.051 ,  3.897 ,  4.334 ,  5.75  ]), array([18.75  , 16.18  ,  0.8999,  6.111 ,  3.869 ,  4.188 ,  5.992 ]), array([18.65  , 16.41  ,  0.8698,  6.285 ,  3.594 ,  4.391 ,  6.102 ]), array([19.18  , 16.63  ,  0.8717,  6.369 ,  3.681 ,  3.357 ,  6.229 ]), array([18.95  , 16.42  ,  0.8829,  6.248 ,  3.755 ,  3.368 ,  6.148 ]), array([19.15 , 16.45 ,  0.889,  6.245,  3.815,  3.084,  6.185]), array([18.89  , 16.23  ,  0.9008,  6.227 ,  3.769 ,  3.639 ,  5.966 ]), array([18.98 , 16.66 ,  0.859,  6.549,  3.67 ,  3.691,  6.498]), array([17.32  , 15.91  ,  0.8599,  6.064 ,  3.403 ,  3.824 ,  5.922 ]), array([17.63 , 15.86 ,  0.88 ,  6.033,  3.573,  3.747,  5.929]), array([18.14  , 16.12  ,  0.8772,  6.059 ,  3.563 ,  3.619 ,  6.011 ]), array([18.94 , 16.49 ,  0.875,  6.445,  3.639,  5.064,  6.362]), array([18.72  , 16.19  ,  0.8977,  6.006 ,  3.857 ,  5.324 ,  5.879 ]), array([19.14  , 16.61  ,  0.8722,  6.259 ,  3.737 ,  6.682 ,  6.053 ]), array([20.2   , 16.89  ,  0.8894,  6.285 ,  3.864 ,  5.173 ,  6.187 ]), array([20.24  , 16.91  ,  0.8897,  6.315 ,  3.962 ,  5.901 ,  6.188 ]), array([21.18  , 17.21  ,  0.8989,  6.573 ,  4.033 ,  5.78  ,  6.231 ]), array([20.71  , 17.23  ,  0.8763,  6.579 ,  3.814 ,  4.451 ,  6.451 ]), array([20.97  , 17.25  ,  0.8859,  6.563 ,  3.991 ,  4.677 ,  6.316 ]), array([20.88  , 17.05  ,  0.9031,  6.45  ,  4.032 ,  5.016 ,  6.321 ])]\n",
            "    [20.1    16.99    0.8746  6.581   3.785   1.955   6.449 ]\n",
            "    [20.16   17.03    0.8735  6.513   3.773   1.91    6.185 ]\n",
            "    [19.57   16.74    0.8779  6.384   3.772   1.472   6.273 ]\n",
            "    [19.94   16.92    0.8752  6.675   3.763   3.252   6.55  ]\n",
            "    [20.03   16.9     0.8811  6.493   3.857   3.063   6.32  ]\n",
            "    [19.51  16.71   0.878  6.366  3.801  2.962  6.185]\n",
            "    [18.27  16.09   0.887  6.173  3.651  2.443  6.197]\n",
            "    [18.45   16.12    0.8921  6.107   3.769   2.235   5.794 ]\n",
            "    [17.99   15.86    0.8992  5.89    3.694   2.068   5.837 ]\n",
            "    [17.98   15.85    0.8993  5.979   3.687   2.257   5.919 ]\n",
            "    [18.83   16.29    0.8917  6.037   3.786   2.553   5.879 ]\n",
            "    [18.85   16.17    0.9056  6.152   3.806   2.843   6.2   ]\n",
            "    [18.43   15.97    0.9077  5.98    3.771   2.984   5.905 ]\n",
            "    [18.72  16.34   0.881  6.219  3.684  2.188  6.097]\n",
            "    [19.06   16.45    0.8854  6.416   3.719   2.248   6.163 ]\n",
            "    [19.13   16.31    0.9035  6.183   3.902   2.109   5.924 ]\n",
            "    [18.88   16.26    0.8969  6.084   3.764   1.649   6.109 ]\n",
            "    [18.55   16.22    0.8865  6.153   3.674   1.738   5.894 ]\n",
            "    [19.46   16.5     0.8985  6.113   3.892   4.308   6.009 ]\n",
            "    [19.38   16.72    0.8716  6.303   3.791   3.678   5.965 ]\n",
            "    [18.96   16.2     0.9077  6.051   3.897   4.334   5.75  ]\n",
            "    [18.75   16.18    0.8999  6.111   3.869   4.188   5.992 ]\n",
            "    [18.65   16.41    0.8698  6.285   3.594   4.391   6.102 ]\n",
            "    [19.18   16.63    0.8717  6.369   3.681   3.357   6.229 ]\n",
            "    [18.95   16.42    0.8829  6.248   3.755   3.368   6.148 ]\n",
            "    [19.15  16.45   0.889  6.245  3.815  3.084  6.185]\n",
            "    [18.89   16.23    0.9008  6.227   3.769   3.639   5.966 ]\n",
            "    [18.98  16.66   0.859  6.549  3.67   3.691  6.498]\n",
            "    [17.32   15.91    0.8599  6.064   3.403   3.824   5.922 ]\n",
            "    [17.63  15.86   0.88   6.033  3.573  3.747  5.929]\n",
            "    [18.14   16.12    0.8772  6.059   3.563   3.619   6.011 ]\n",
            "    [18.94  16.49   0.875  6.445  3.639  5.064  6.362]\n",
            "    [18.72   16.19    0.8977  6.006   3.857   5.324   5.879 ]\n",
            "    [19.14   16.61    0.8722  6.259   3.737   6.682   6.053 ]\n",
            "    [20.2    16.89    0.8894  6.285   3.864   5.173   6.187 ]\n",
            "    [20.24   16.91    0.8897  6.315   3.962   5.901   6.188 ]\n",
            "    [21.18   17.21    0.8989  6.573   4.033   5.78    6.231 ]\n",
            "    [20.71   17.23    0.8763  6.579   3.814   4.451   6.451 ]\n",
            "    [20.97   17.25    0.8859  6.563   3.991   4.677   6.316 ]\n",
            "    [20.88   17.05    0.9031  6.45    4.032   5.016   6.321 ]\n",
            "Cluster: 2\n",
            "[array([13.99  , 13.83  ,  0.9183,  5.119 ,  3.383 ,  5.234 ,  4.781 ]), array([13.37  , 13.78  ,  0.8849,  5.32  ,  3.128 ,  4.67  ,  5.091 ]), array([13.07 , 13.92 ,  0.848,  5.472,  2.994,  5.304,  5.395]), array([13.34 , 13.95 ,  0.862,  5.389,  3.074,  5.995,  5.307]), array([13.32  , 13.94  ,  0.8613,  5.541 ,  3.073 ,  7.035 ,  5.44  ]), array([12.01  , 13.52  ,  0.8249,  5.405 ,  2.776 ,  6.992 ,  5.27  ]), array([11.23  , 12.82  ,  0.8594,  5.089 ,  2.821 ,  7.524 ,  4.957 ]), array([11.14  , 12.79  ,  0.8558,  5.011 ,  2.794 ,  6.388 ,  5.049 ]), array([11.02  , 13.    ,  0.8189,  5.325 ,  2.701 ,  6.735 ,  5.163 ]), array([11.55  , 13.1   ,  0.8455,  5.167 ,  2.845 ,  6.715 ,  4.956 ]), array([11.21  , 13.13  ,  0.8167,  5.279 ,  2.687 ,  6.169 ,  5.275 ]), array([11.19  , 13.05  ,  0.8253,  5.25  ,  2.675 ,  5.813 ,  5.219 ]), array([11.48  , 13.05  ,  0.8473,  5.18  ,  2.758 ,  5.876 ,  5.002 ]), array([12.26  , 13.6   ,  0.8333,  5.408 ,  2.833 ,  4.756 ,  5.36  ]), array([12.13  , 13.73  ,  0.8081,  5.394 ,  2.745 ,  4.825 ,  5.22  ]), array([12.44  , 13.59  ,  0.8462,  5.319 ,  2.897 ,  4.924 ,  5.27  ]), array([12.05  , 13.41  ,  0.8416,  5.267 ,  2.847 ,  4.988 ,  5.046 ]), array([12.22  , 13.32  ,  0.8652,  5.224 ,  2.967 ,  5.469 ,  5.221 ]), array([12.38  , 13.44  ,  0.8609,  5.219 ,  2.989 ,  5.472 ,  5.045 ]), array([12.8  , 13.47 ,  0.886,  5.16 ,  3.126,  4.873,  4.914]), array([12.79  , 13.53  ,  0.8786,  5.224 ,  3.054 ,  5.483 ,  4.958 ]), array([12.55  , 13.57  ,  0.8558,  5.333 ,  2.968 ,  4.419 ,  5.176 ]), array([12.11  , 13.27  ,  0.8639,  5.236 ,  2.975 ,  4.132 ,  5.012 ]), array([11.82  , 13.4   ,  0.8274,  5.314 ,  2.777 ,  4.471 ,  5.178 ]), array([11.75  , 13.52  ,  0.8082,  5.444 ,  2.678 ,  4.378 ,  5.31  ]), array([12.02  , 13.33  ,  0.8503,  5.35  ,  2.81  ,  4.271 ,  5.308 ]), array([10.83  , 12.96  ,  0.8099,  5.278 ,  2.641 ,  5.182 ,  5.185 ]), array([10.93 , 12.8  ,  0.839,  5.046,  2.717,  5.398,  5.045]), array([11.4   , 13.08  ,  0.8375,  5.136 ,  2.763 ,  5.588 ,  5.089 ]), array([11.26  , 13.01  ,  0.8355,  5.186 ,  2.71  ,  5.335 ,  5.092 ]), array([11.49  , 13.22  ,  0.8263,  5.304 ,  2.695 ,  5.388 ,  5.31  ]), array([10.74  , 12.73  ,  0.8329,  5.145 ,  2.642 ,  4.702 ,  4.963 ]), array([10.82  , 12.83  ,  0.8256,  5.18  ,  2.63  ,  4.853 ,  5.089 ]), array([10.8  , 12.57 ,  0.859,  4.981,  2.821,  4.773,  5.063]), array([10.59  , 12.41  ,  0.8648,  4.899 ,  2.787 ,  4.975 ,  4.794 ]), array([12.15  , 13.45  ,  0.8443,  5.417 ,  2.837 ,  3.638 ,  5.338 ]), array([11.87  , 13.02  ,  0.8795,  5.132 ,  2.953 ,  3.597 ,  5.132 ]), array([12.54  , 13.67  ,  0.8425,  5.451 ,  2.879 ,  3.082 ,  5.491 ]), array([12.62  , 13.67  ,  0.8481,  5.41  ,  2.911 ,  3.306 ,  5.231 ]), array([11.36  , 13.05  ,  0.8382,  5.175 ,  2.755 ,  4.048 ,  5.263 ]), array([11.27  , 12.86  ,  0.8563,  5.091 ,  2.804 ,  3.985 ,  5.001 ]), array([11.35  , 13.12  ,  0.8291,  5.176 ,  2.668 ,  4.337 ,  5.132 ]), array([11.27  , 12.97  ,  0.8419,  5.088 ,  2.763 ,  4.309 ,  5.    ]), array([11.18  , 13.04  ,  0.8266,  5.22  ,  2.693 ,  3.332 ,  5.001 ]), array([11.24  , 13.    ,  0.8359,  5.09  ,  2.715 ,  3.521 ,  5.088 ]), array([11.34  , 12.87  ,  0.8596,  5.053 ,  2.849 ,  3.347 ,  5.003 ])]\n",
            "    [13.99   13.83    0.9183  5.119   3.383   5.234   4.781 ]\n",
            "    [13.37   13.78    0.8849  5.32    3.128   4.67    5.091 ]\n",
            "    [13.07  13.92   0.848  5.472  2.994  5.304  5.395]\n",
            "    [13.34  13.95   0.862  5.389  3.074  5.995  5.307]\n",
            "    [13.32   13.94    0.8613  5.541   3.073   7.035   5.44  ]\n",
            "    [12.01   13.52    0.8249  5.405   2.776   6.992   5.27  ]\n",
            "    [11.23   12.82    0.8594  5.089   2.821   7.524   4.957 ]\n",
            "    [11.14   12.79    0.8558  5.011   2.794   6.388   5.049 ]\n",
            "    [11.02   13.      0.8189  5.325   2.701   6.735   5.163 ]\n",
            "    [11.55   13.1     0.8455  5.167   2.845   6.715   4.956 ]\n",
            "    [11.21   13.13    0.8167  5.279   2.687   6.169   5.275 ]\n",
            "    [11.19   13.05    0.8253  5.25    2.675   5.813   5.219 ]\n",
            "    [11.48   13.05    0.8473  5.18    2.758   5.876   5.002 ]\n",
            "    [12.26   13.6     0.8333  5.408   2.833   4.756   5.36  ]\n",
            "    [12.13   13.73    0.8081  5.394   2.745   4.825   5.22  ]\n",
            "    [12.44   13.59    0.8462  5.319   2.897   4.924   5.27  ]\n",
            "    [12.05   13.41    0.8416  5.267   2.847   4.988   5.046 ]\n",
            "    [12.22   13.32    0.8652  5.224   2.967   5.469   5.221 ]\n",
            "    [12.38   13.44    0.8609  5.219   2.989   5.472   5.045 ]\n",
            "    [12.8   13.47   0.886  5.16   3.126  4.873  4.914]\n",
            "    [12.79   13.53    0.8786  5.224   3.054   5.483   4.958 ]\n",
            "    [12.55   13.57    0.8558  5.333   2.968   4.419   5.176 ]\n",
            "    [12.11   13.27    0.8639  5.236   2.975   4.132   5.012 ]\n",
            "    [11.82   13.4     0.8274  5.314   2.777   4.471   5.178 ]\n",
            "    [11.75   13.52    0.8082  5.444   2.678   4.378   5.31  ]\n",
            "    [12.02   13.33    0.8503  5.35    2.81    4.271   5.308 ]\n",
            "    [10.83   12.96    0.8099  5.278   2.641   5.182   5.185 ]\n",
            "    [10.93  12.8    0.839  5.046  2.717  5.398  5.045]\n",
            "    [11.4    13.08    0.8375  5.136   2.763   5.588   5.089 ]\n",
            "    [11.26   13.01    0.8355  5.186   2.71    5.335   5.092 ]\n",
            "    [11.49   13.22    0.8263  5.304   2.695   5.388   5.31  ]\n",
            "    [10.74   12.73    0.8329  5.145   2.642   4.702   4.963 ]\n",
            "    [10.82   12.83    0.8256  5.18    2.63    4.853   5.089 ]\n",
            "    [10.8   12.57   0.859  4.981  2.821  4.773  5.063]\n",
            "    [10.59   12.41    0.8648  4.899   2.787   4.975   4.794 ]\n",
            "    [12.15   13.45    0.8443  5.417   2.837   3.638   5.338 ]\n",
            "    [11.87   13.02    0.8795  5.132   2.953   3.597   5.132 ]\n",
            "    [12.54   13.67    0.8425  5.451   2.879   3.082   5.491 ]\n",
            "    [12.62   13.67    0.8481  5.41    2.911   3.306   5.231 ]\n",
            "    [11.36   13.05    0.8382  5.175   2.755   4.048   5.263 ]\n",
            "    [11.27   12.86    0.8563  5.091   2.804   3.985   5.001 ]\n",
            "    [11.35   13.12    0.8291  5.176   2.668   4.337   5.132 ]\n",
            "    [11.27   12.97    0.8419  5.088   2.763   4.309   5.    ]\n",
            "    [11.18   13.04    0.8266  5.22    2.693   3.332   5.001 ]\n",
            "    [11.24   13.      0.8359  5.09    2.715   3.521   5.088 ]\n",
            "    [11.34   12.87    0.8596  5.053   2.849   3.347   5.003 ]\n",
            "Cluster: 3\n",
            "[array([13.84  , 13.94  ,  0.8955,  5.324 ,  3.379 ,  2.259 ,  4.805 ]), array([13.94  , 14.17  ,  0.8728,  5.585 ,  3.15  ,  2.124 ,  5.012 ]), array([14.03  , 14.16  ,  0.8796,  5.438 ,  3.201 ,  1.717 ,  5.001 ]), array([13.8   , 14.04  ,  0.8794,  5.376 ,  3.155 ,  1.56  ,  4.961 ]), array([13.16  , 13.82  ,  0.8662,  5.454 ,  2.975 ,  0.8551,  5.056 ]), array([12.08  , 13.23  ,  0.8664,  5.099 ,  2.936 ,  1.415 ,  4.961 ]), array([12.21  , 13.47  ,  0.8453,  5.357 ,  2.893 ,  1.661 ,  5.178 ]), array([12.11  , 13.47  ,  0.8392,  5.159 ,  3.032 ,  1.502 ,  4.519 ]), array([11.43  , 13.13  ,  0.8335,  5.176 ,  2.719 ,  2.221 ,  5.132 ]), array([12.1   , 13.15  ,  0.8793,  5.105 ,  2.941 ,  2.201 ,  5.056 ]), array([12.76  , 13.38  ,  0.8964,  5.073 ,  3.155 ,  2.828 ,  4.83  ]), array([12.67  , 13.32  ,  0.8977,  4.984 ,  3.135 ,  2.3   ,  4.745 ]), array([12.74  , 13.67  ,  0.8564,  5.395 ,  2.956 ,  2.504 ,  4.869 ]), array([15.11  , 14.54  ,  0.8986,  5.579 ,  3.462 ,  3.128 ,  5.18  ]), array([14.99  , 14.56  ,  0.8883,  5.57  ,  3.377 ,  2.958 ,  5.175 ]), array([14.79  , 14.52  ,  0.8819,  5.545 ,  3.291 ,  2.704 ,  5.111 ]), array([14.69  , 14.49  ,  0.8799,  5.563 ,  3.259 ,  3.586 ,  5.219 ]), array([14.33  , 14.28  ,  0.8831,  5.504 ,  3.199 ,  3.328 ,  5.224 ]), array([14.29 , 14.09 ,  0.905,  5.291,  3.337,  2.699,  4.825]), array([14.38  , 14.21  ,  0.8951,  5.386 ,  3.312 ,  2.462 ,  4.956 ]), array([14.46  , 14.35  ,  0.8818,  5.388 ,  3.377 ,  2.802 ,  5.044 ]), array([14.11  , 14.1   ,  0.8911,  5.42  ,  3.302 ,  2.7   ,  5.    ]), array([14.11 , 14.18 ,  0.882,  5.541,  3.221,  2.754,  5.038]), array([13.89 , 14.02 ,  0.888,  5.439,  3.199,  3.986,  4.738]), array([14.59  , 14.28  ,  0.8993,  5.351 ,  3.333 ,  4.185 ,  4.781 ]), array([14.09  , 14.41  ,  0.8529,  5.717 ,  3.186 ,  3.92  ,  5.299 ]), array([14.43  , 14.4   ,  0.8751,  5.585 ,  3.272 ,  3.975 ,  5.144 ]), array([14.49  , 14.61  ,  0.8538,  5.715 ,  3.113 ,  4.116 ,  5.396 ]), array([13.02  , 13.76  ,  0.8641,  5.395 ,  3.026 ,  3.373 ,  4.825 ]), array([13.45  , 14.02  ,  0.8604,  5.516 ,  3.065 ,  3.531 ,  5.097 ]), array([13.78  , 14.06  ,  0.8759,  5.479 ,  3.156 ,  3.136 ,  4.872 ]), array([13.74  , 14.05  ,  0.8744,  5.482 ,  3.114 ,  2.932 ,  4.825 ])]\n",
            "    [13.84   13.94    0.8955  5.324   3.379   2.259   4.805 ]\n",
            "    [13.94   14.17    0.8728  5.585   3.15    2.124   5.012 ]\n",
            "    [14.03   14.16    0.8796  5.438   3.201   1.717   5.001 ]\n",
            "    [13.8    14.04    0.8794  5.376   3.155   1.56    4.961 ]\n",
            "    [13.16   13.82    0.8662  5.454   2.975   0.8551  5.056 ]\n",
            "    [12.08   13.23    0.8664  5.099   2.936   1.415   4.961 ]\n",
            "    [12.21   13.47    0.8453  5.357   2.893   1.661   5.178 ]\n",
            "    [12.11   13.47    0.8392  5.159   3.032   1.502   4.519 ]\n",
            "    [11.43   13.13    0.8335  5.176   2.719   2.221   5.132 ]\n",
            "    [12.1    13.15    0.8793  5.105   2.941   2.201   5.056 ]\n",
            "    [12.76   13.38    0.8964  5.073   3.155   2.828   4.83  ]\n",
            "    [12.67   13.32    0.8977  4.984   3.135   2.3     4.745 ]\n",
            "    [12.74   13.67    0.8564  5.395   2.956   2.504   4.869 ]\n",
            "    [15.11   14.54    0.8986  5.579   3.462   3.128   5.18  ]\n",
            "    [14.99   14.56    0.8883  5.57    3.377   2.958   5.175 ]\n",
            "    [14.79   14.52    0.8819  5.545   3.291   2.704   5.111 ]\n",
            "    [14.69   14.49    0.8799  5.563   3.259   3.586   5.219 ]\n",
            "    [14.33   14.28    0.8831  5.504   3.199   3.328   5.224 ]\n",
            "    [14.29  14.09   0.905  5.291  3.337  2.699  4.825]\n",
            "    [14.38   14.21    0.8951  5.386   3.312   2.462   4.956 ]\n",
            "    [14.46   14.35    0.8818  5.388   3.377   2.802   5.044 ]\n",
            "    [14.11   14.1     0.8911  5.42    3.302   2.7     5.    ]\n",
            "    [14.11  14.18   0.882  5.541  3.221  2.754  5.038]\n",
            "    [13.89  14.02   0.888  5.439  3.199  3.986  4.738]\n",
            "    [14.59   14.28    0.8993  5.351   3.333   4.185   4.781 ]\n",
            "    [14.09   14.41    0.8529  5.717   3.186   3.92    5.299 ]\n",
            "    [14.43   14.4     0.8751  5.585   3.272   3.975   5.144 ]\n",
            "    [14.49   14.61    0.8538  5.715   3.113   4.116   5.396 ]\n",
            "    [13.02   13.76    0.8641  5.395   3.026   3.373   4.825 ]\n",
            "    [13.45   14.02    0.8604  5.516   3.065   3.531   5.097 ]\n",
            "    [13.78   14.06    0.8759  5.479   3.156   3.136   4.872 ]\n",
            "    [13.74   14.05    0.8744  5.482   3.114   2.932   4.825 ]\n",
            "[1, 1, 4, 4, 1, 4, 4, 4, 1, 1, 1, 4, 4, 4, 4, 4, 3, 1, 1, 4, 1, 1, 4, 4, 4, 4, 4, 1, 4, 4, 1, 1, 1, 1, 4, 4, 1, 4, 4, 1, 4, 1, 4, 4, 1, 1, 4, 1, 1, 4, 1, 1, 2, 2, 2, 1, 1, 2, 2, 2, 2, 2, 2, 2, 2, 2, 2, 2, 1, 2, 2, 2, 2, 2, 2, 2, 2, 2, 2, 2, 2, 2, 2, 2, 2, 2, 2, 2, 2, 2, 1, 2, 1, 2, 2, 2, 2, 1, 3, 3, 3, 3, 3, 3, 4, 3, 3, 3, 3, 3, 3, 3, 3, 3, 3, 3, 3, 3, 3, 4, 3, 3, 3, 3, 3, 3, 3, 3, 3, 3, 3, 3, 3, 4, 3, 3, 3, 3, 3, 3, 3, 3, 3, 3, 3, 4, 3, 4]\n"
          ]
        }
      ]
    },
    {
      "cell_type": "code",
      "source": [
        "centroids= new_centroids(K,X,final_clusters)\n",
        "print(centroids)"
      ],
      "metadata": {
        "colab": {
          "base_uri": "https://localhost:8080/"
        },
        "outputId": "508f18ec-d861-4bf2-f1fc-c667dda1a554",
        "id": "MzTscpcf4-tC"
      },
      "execution_count": 30,
      "outputs": [
        {
          "output_type": "stream",
          "name": "stdout",
          "text": [
            "Cluster: 1\n",
            "Cluster: 1\n",
            "Cluster: 1\n",
            "Cluster: 1\n",
            "[[15.88433333 15.03033333  0.88310667  5.7358      3.4273      2.73190333\n",
            "   5.3935    ]\n",
            " [19.17175    16.4835      0.88631     6.262925    3.771475    3.480625\n",
            "   6.11435   ]\n",
            " [11.8323913  13.2476087   0.84622391  5.2368913   2.83930435  4.99145652\n",
            "   5.1355    ]\n",
            " [13.6753125  13.99625     0.8762      5.40596875  3.163375    2.73194063\n",
            "   4.9960625 ]]\n"
          ]
        }
      ]
    },
    {
      "cell_type": "code",
      "source": [
        "k=[1,3,5]\n",
        "y_test = (np.array(y_test)).astype(int)\n",
        "for v in k:\n",
        "  predictions=0\n",
        "  for i in range(len(X_test)):\n",
        "    #print(X[i])\n",
        "    distance = euclidean_distance(K,X_test[i], centroids)\n",
        "    l = minimum_distance(distance)\n",
        "    #print(l)\n",
        "    #print(K)\n",
        "    yp=[]\n",
        "    for id, p in final_clusters.items():\n",
        "      if(id == l):\n",
        "        for ps in p:\n",
        "          for j in range(len(X)):\n",
        "            if((ps == X[j]).all()):\n",
        "              yp.append(y[j])\n",
        "  #print(yp)\n",
        "  #print(len(yp))\n",
        "\n",
        "    for id, p in final_clusters.items():\n",
        "      #print((p))\n",
        "      p=np.array(p)\n",
        "      #print(X[i])\n",
        "      if( id == l):\n",
        "        predictvalue = knn(X_test[i], v, p, yp)\n",
        "        #print(predictvalue)\n",
        "        #print(y_test[i])\n",
        "        if predictvalue == y_test[i]:\n",
        "                #print(predictvalue)\n",
        "                predictions += 1\n",
        "  #print(predictions)\n",
        "  print(f\"KNN for k value:{v}\")\n",
        "  print(f\"{predictions}/{X_test.shape[0]} correct predictions using all features\")\n",
        "  print(f'performance is : ', (predictions/X_test.shape[0]) * 100)\n",
        "  print()"
      ],
      "metadata": {
        "colab": {
          "base_uri": "https://localhost:8080/"
        },
        "outputId": "4aa6708d-a262-4120-b85a-955d84f582cf",
        "id": "thZh_3QY5Czp"
      },
      "execution_count": 31,
      "outputs": [
        {
          "output_type": "stream",
          "name": "stdout",
          "text": [
            "KNN for k value:1\n",
            "50/62 correct predictions using all features\n",
            "performance is :  80.64516129032258\n",
            "\n",
            "KNN for k value:3\n",
            "50/62 correct predictions using all features\n",
            "performance is :  80.64516129032258\n",
            "\n",
            "KNN for k value:5\n",
            "51/62 correct predictions using all features\n",
            "performance is :  82.25806451612904\n",
            "\n"
          ]
        }
      ]
    },
    {
      "cell_type": "markdown",
      "source": [
        "After checking the optimal number of clusters for each linkage method:\n",
        " Number of clusters = 4 for the complete linkage performs better than the other linkage method as shown in the above results"
      ],
      "metadata": {
        "id": "uSg578eL7tl6"
      }
    }
  ]
}